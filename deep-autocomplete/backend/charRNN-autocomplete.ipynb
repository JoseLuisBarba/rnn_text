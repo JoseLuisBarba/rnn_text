{
 "cells": [
  {
   "cell_type": "code",
   "execution_count": 1,
   "id": "3379ea9e",
   "metadata": {},
   "outputs": [],
   "source": [
    "import numpy as np\n",
    "import pandas as pd\n",
    "import matplotlib.pyplot as plt\n",
    "import seaborn as sns\n",
    "from tqdm import tqdm\n",
    "\n",
    "import torch\n",
    "from torch.nn.utils.rnn import pad_sequence\n",
    "from torch.utils.data import Dataset\n",
    "import torch.nn.functional as F\n",
    "from torch.utils.data import DataLoader\n",
    "import torch.nn as nn\n",
    "from torch.nn.utils import clip_grad_norm_\n",
    "import torch.optim as optim"
   ]
  },
  {
   "cell_type": "code",
   "execution_count": 2,
   "id": "66315054",
   "metadata": {},
   "outputs": [],
   "source": [
    "from string import printable\n",
    "import re\n",
    "import os"
   ]
  },
  {
   "cell_type": "markdown",
   "id": "b1efb3ca",
   "metadata": {},
   "source": [
    "### Parse and Load data\n",
    "The raw data contains some non ASCII characters, so we remove these characters, parse the data, and load all the files into a single pandas dataframe keeping only the \"Question\" attribute"
   ]
  },
  {
   "cell_type": "code",
   "execution_count": 3,
   "id": "677bd7e5",
   "metadata": {},
   "outputs": [],
   "source": [
    "root = \"data\"\n",
    "raw_data_path = os.path.join(root, \"raw_data\")\n",
    "parsed_data_path = os.path.join(root, \"parsed_data\") \n",
    "processed_data_path = os.path.join(root, \"processed_data\")   "
   ]
  },
  {
   "cell_type": "code",
   "execution_count": 4,
   "id": "9e633dff",
   "metadata": {},
   "outputs": [],
   "source": [
    "for txt_file in os.listdir(raw_data_path):\n",
    "    raw_file_path = os.path.join(raw_data_path, txt_file)\n",
    "    parsed_file_path = os.path.join(parsed_data_path, txt_file)\n",
    "    with open(raw_file_path, \"r\", encoding=\"utf-8\") as f:\n",
    "        parsed_file = \"\".join([char for char in f.read() if char in printable])\n",
    "    with open(parsed_file_path, \"w\") as f:\n",
    "        f.write(parsed_file)"
   ]
  },
  {
   "cell_type": "markdown",
   "id": "58bc6088",
   "metadata": {},
   "source": [
    "#### Show dataset sample"
   ]
  },
  {
   "cell_type": "code",
   "execution_count": 4,
   "id": "e1c09ee4",
   "metadata": {},
   "outputs": [
    {
     "data": {
      "text/html": [
       "<div>\n",
       "<style scoped>\n",
       "    .dataframe tbody tr th:only-of-type {\n",
       "        vertical-align: middle;\n",
       "    }\n",
       "\n",
       "    .dataframe tbody tr th {\n",
       "        vertical-align: top;\n",
       "    }\n",
       "\n",
       "    .dataframe thead th {\n",
       "        text-align: right;\n",
       "    }\n",
       "</style>\n",
       "<table border=\"1\" class=\"dataframe\">\n",
       "  <thead>\n",
       "    <tr style=\"text-align: right;\">\n",
       "      <th></th>\n",
       "      <th>id</th>\n",
       "      <th>Question</th>\n",
       "    </tr>\n",
       "  </thead>\n",
       "  <tbody>\n",
       "    <tr>\n",
       "      <th>0</th>\n",
       "      <td>1</td>\n",
       "      <td>¿Cuáles son los principios fundamentales de la...</td>\n",
       "    </tr>\n",
       "    <tr>\n",
       "      <th>1</th>\n",
       "      <td>2</td>\n",
       "      <td>¿Cómo se implementa el polimorfismo en lenguaj...</td>\n",
       "    </tr>\n",
       "    <tr>\n",
       "      <th>2</th>\n",
       "      <td>3</td>\n",
       "      <td>¿Cuál es la diferencia entre un algoritmo recu...</td>\n",
       "    </tr>\n",
       "    <tr>\n",
       "      <th>3</th>\n",
       "      <td>4</td>\n",
       "      <td>¿Cómo se optimiza el rendimiento de bases de d...</td>\n",
       "    </tr>\n",
       "    <tr>\n",
       "      <th>4</th>\n",
       "      <td>5</td>\n",
       "      <td>¿Qué es la arquitectura de microservicios y en...</td>\n",
       "    </tr>\n",
       "  </tbody>\n",
       "</table>\n",
       "</div>"
      ],
      "text/plain": [
       "   id                                           Question\n",
       "0   1  ¿Cuáles son los principios fundamentales de la...\n",
       "1   2  ¿Cómo se implementa el polimorfismo en lenguaj...\n",
       "2   3  ¿Cuál es la diferencia entre un algoritmo recu...\n",
       "3   4  ¿Cómo se optimiza el rendimiento de bases de d...\n",
       "4   5  ¿Qué es la arquitectura de microservicios y en..."
      ]
     },
     "execution_count": 4,
     "metadata": {},
     "output_type": "execute_result"
    }
   ],
   "source": [
    "pd.read_table(\"data/parsed_data/data.txt\").head()"
   ]
  },
  {
   "cell_type": "code",
   "execution_count": 5,
   "id": "a557bd0d",
   "metadata": {},
   "outputs": [],
   "source": [
    "questions_all = pd.concat([pd.read_table(os.path.join(parsed_data_path, file_name))[\"Question\"] \\\n",
    " for file_name in os.listdir(parsed_data_path)])"
   ]
  },
  {
   "cell_type": "markdown",
   "id": "46b42a95",
   "metadata": {},
   "source": [
    "#### Basis Preprocessing\n",
    "Do some basic preprocessing like dropping null values and duplicates"
   ]
  },
  {
   "cell_type": "code",
   "execution_count": 6,
   "id": "3ae05079",
   "metadata": {},
   "outputs": [],
   "source": [
    "questions_all.dropna(inplace=True)"
   ]
  },
  {
   "cell_type": "code",
   "execution_count": 7,
   "id": "c3fea93d",
   "metadata": {},
   "outputs": [],
   "source": [
    "questions_all = questions_all.unique()"
   ]
  },
  {
   "cell_type": "code",
   "execution_count": 8,
   "id": "b9835347",
   "metadata": {},
   "outputs": [
    {
     "data": {
      "text/plain": [
       "array(['¿Cómo se lleva a cabo el análisis y diseño de algoritmos eficientes para resolver problemas complejos?',\n",
       "       '¿Qué es la ingeniería inversa en el contexto de la seguridad informática?',\n",
       "       '¿Cuál es la importancia de los contenedores en la implementación de aplicaciones?',\n",
       "       '¿Cómo se realiza la depuración de código en entornos de desarrollo complejos?',\n",
       "       '¿Cuáles son las técnicas de protección contra ataques de inyección SQL?'],\n",
       "      dtype=object)"
      ]
     },
     "execution_count": 8,
     "metadata": {},
     "output_type": "execute_result"
    }
   ],
   "source": [
    "questions_all[10:15]"
   ]
  },
  {
   "cell_type": "code",
   "execution_count": 9,
   "id": "a41fd19b",
   "metadata": {},
   "outputs": [
    {
     "data": {
      "text/plain": [
       "500"
      ]
     },
     "execution_count": 9,
     "metadata": {},
     "output_type": "execute_result"
    }
   ],
   "source": [
    "len(questions_all)"
   ]
  },
  {
   "cell_type": "markdown",
   "id": "663f5027",
   "metadata": {},
   "source": [
    "#### Preprocessing\n",
    "remove punctuations, multiple white spaces, tabs, newlines, text between brackets, and null questions"
   ]
  },
  {
   "cell_type": "code",
   "execution_count": 10,
   "id": "98aae4fc",
   "metadata": {},
   "outputs": [],
   "source": [
    "def preprocess_text(question):\n",
    "    question = question.replace(\"S08_\", \"\")\n",
    "    question = question.replace(\"NOTTTT  FOUND\", \"\")\n",
    "    question = re.sub(\"([\\(\\[]).*?([\\)\\]])\", \"\", question) # remove text between brackets\n",
    "    question = re.sub(\"[^\\w\\s]\", \"\", question) # remove punctuations\n",
    "    re.sub(\"\\s+\", \" \", question) # remove multiple white spaces\n",
    "    re.sub(\"[\\t\\n]\", \"\", question) # remove tabs and newline characters\n",
    "    question = question.lower().strip()\n",
    "    return question"
   ]
  },
  {
   "cell_type": "code",
   "execution_count": 11,
   "id": "d16475d8",
   "metadata": {},
   "outputs": [],
   "source": [
    "questions_processed = [preprocess_text(q) for q in questions_all]\n",
    "questions_processed = [q for q in questions_processed if len(q) != 0] # remove empty strings after preprocessing"
   ]
  },
  {
   "cell_type": "markdown",
   "id": "7d9644ce",
   "metadata": {},
   "source": [
    "#### Remove long questions\n",
    "Since we want to emulate a search engine, we ought to remove long sentences and paragraphs"
   ]
  },
  {
   "cell_type": "code",
   "execution_count": 12,
   "id": "dfd43897",
   "metadata": {},
   "outputs": [],
   "source": [
    "q_lengths = [len(q) for q in questions_processed]"
   ]
  },
  {
   "cell_type": "code",
   "execution_count": 13,
   "id": "f6adebe4",
   "metadata": {},
   "outputs": [
    {
     "data": {
      "text/plain": [
       "<seaborn.axisgrid.FacetGrid at 0x2423ba68f90>"
      ]
     },
     "execution_count": 13,
     "metadata": {},
     "output_type": "execute_result"
    },
    {
     "data": {
      "image/png": "[encoded data removed]",
      "text/plain": [
       "<Figure size 500x500 with 1 Axes>"
      ]
     },
     "metadata": {},
     "output_type": "display_data"
    }
   ],
   "source": [
    "sns.displot(q_lengths)"
   ]
  },
  {
   "cell_type": "code",
   "execution_count": 14,
   "id": "5f3e3884",
   "metadata": {},
   "outputs": [
    {
     "name": "stdout",
     "output_type": "stream",
     "text": [
      "mean: 77.514, std: 17.347213147938202\n"
     ]
    }
   ],
   "source": [
    "mean = np.mean(q_lengths)\n",
    "std = np.std(q_lengths)\n",
    "print(f\"mean: {mean}, std: {std}\")"
   ]
  },
  {
   "cell_type": "code",
   "execution_count": 15,
   "id": "e33df3dd",
   "metadata": {},
   "outputs": [
    {
     "name": "stdout",
     "output_type": "stream",
     "text": [
      "optimum length: 94\n"
     ]
    }
   ],
   "source": [
    "optimum_length = int(mean + std)\n",
    "print(f\"optimum length: {optimum_length}\")"
   ]
  },
  {
   "cell_type": "code",
   "execution_count": 16,
   "id": "cf36e987",
   "metadata": {},
   "outputs": [],
   "source": [
    "questions_short = [q for q in questions_processed if len(q) <= optimum_length]"
   ]
  },
  {
   "cell_type": "markdown",
   "id": "f2d3f36c",
   "metadata": {},
   "source": [
    "#### Shuffle Data"
   ]
  },
  {
   "cell_type": "code",
   "execution_count": 17,
   "id": "d6dc4466",
   "metadata": {},
   "outputs": [],
   "source": [
    "import random\n",
    "random.seed(42)\n",
    "random.shuffle(questions_short)"
   ]
  },
  {
   "cell_type": "code",
   "execution_count": 18,
   "id": "81bdcdc5",
   "metadata": {},
   "outputs": [
    {
     "data": {
      "text/plain": [
       "['qué son los métodos mágicos  en python',\n",
       " 'cuál es la diferencia entre un sistema operativo de 32 bits y uno de 64 bits',\n",
       " 'qué es chatgpt y en qué se diferencia de otros modelos de lenguaje',\n",
       " 'qué significan las siglas solid en el contexto del desarrollo de software',\n",
       " 'cuál es el propósito de la normalización en el diseño de bases de datos']"
      ]
     },
     "execution_count": 18,
     "metadata": {},
     "output_type": "execute_result"
    }
   ],
   "source": [
    "questions_short[52:57]"
   ]
  },
  {
   "cell_type": "markdown",
   "id": "58c493ba",
   "metadata": {},
   "source": [
    "### Create Dataset and Dataloader\n",
    "Here we create the vocab, encode questions as char indices, and perform one-hot encoding and padding"
   ]
  },
  {
   "cell_type": "code",
   "execution_count": 19,
   "id": "88b1c339",
   "metadata": {},
   "outputs": [],
   "source": [
    "class QuestionsDataset(Dataset):\n",
    "    def __init__(self, questions, vocab, sos_token, eos_token, batch_first=False):\n",
    "        \n",
    "        # initialize parameters\n",
    "        self.sos_idx = 0\n",
    "        self.eos_idx = 1\n",
    "        self.int2char = {self.sos_idx: sos_token, self.eos_idx: eos_token} # insert start of sentence and end of sentence tokens\n",
    "        self.int2char.update({idx: char for idx, char in enumerate(vocab, start=self.eos_idx+1)})\n",
    "        self.char2int = {char: idx for idx, char in self.int2char.items()}\n",
    "        self.n_chars = len(self.int2char)\n",
    "        \n",
    "        # encode and pad questions\n",
    "        self.questions_encoded = pad_sequence([self.encode_question(q) for q in questions], \\\n",
    "                                              batch_first=batch_first)\n",
    "                \n",
    "    def __len__(self):\n",
    "        return len(self.questions_encoded)\n",
    "    \n",
    "    def __getitem__(self, idx):\n",
    "        return self.questions_encoded[idx]\n",
    "        \n",
    "    def encode_question(self, question):\n",
    "        '''\n",
    "        encode question as char indices and perform one-hot encoding\n",
    "        '''\n",
    "        question_encoded = [self.sos_idx] # append sos\n",
    "        for char in question:\n",
    "            question_encoded.append(self.char2int[char])\n",
    "        question_encoded.append(self.eos_idx) # append eos\n",
    "        return F.one_hot(torch.tensor(question_encoded, dtype=torch.long), self.n_chars).float()"
   ]
  },
  {
   "cell_type": "code",
   "execution_count": 20,
   "id": "a355c030",
   "metadata": {},
   "outputs": [],
   "source": [
    "vocab = sorted(set(\"\".join(questions_short)))\n",
    "sos_token = '['\n",
    "eos_token = ']'\n",
    "BATCH_FIRST=True\n",
    "BATCH_SIZE=64\n",
    "device = torch.device(\"cuda\" if torch.cuda.is_available() else \"cpu\")"
   ]
  },
  {
   "cell_type": "markdown",
   "id": "1ff7f828",
   "metadata": {},
   "source": [
    "#### Create train and val set"
   ]
  },
  {
   "cell_type": "code",
   "execution_count": 89,
   "id": "fc373315",
   "metadata": {},
   "outputs": [
    {
     "name": "stdout",
     "output_type": "stream",
     "text": [
      "n_train: 340, n_val: 85\n"
     ]
    }
   ],
   "source": [
    "val_percent = 0.2\n",
    "n_val = int(val_percent * len(questions_short))\n",
    "n_train = len(questions_short) - n_val\n",
    "print(f\"n_train: {n_train}, n_val: {n_val}\")"
   ]
  },
  {
   "cell_type": "code",
   "execution_count": 22,
   "id": "0678986b",
   "metadata": {},
   "outputs": [],
   "source": [
    "questions_train = questions_short[:n_train]\n",
    "questions_val = questions_short[n_train:]"
   ]
  },
  {
   "cell_type": "code",
   "execution_count": 90,
   "id": "8c5e37f1",
   "metadata": {},
   "outputs": [],
   "source": [
    "train_dataset = QuestionsDataset(questions_train, vocab, sos_token, eos_token, batch_first=BATCH_FIRST)\n",
    "val_dataset = QuestionsDataset(questions_val, vocab, sos_token, eos_token, batch_first=BATCH_FIRST)\n",
    "\n",
    "train_dataloader = DataLoader(train_dataset, batch_size=BATCH_SIZE, shuffle=True)\n",
    "val_dataloader = DataLoader(val_dataset, batch_size=BATCH_SIZE, shuffle=True)"
   ]
  },
  {
   "cell_type": "code",
   "execution_count": 91,
   "id": "46065ce0",
   "metadata": {},
   "outputs": [],
   "source": [
    "assert train_dataset.n_chars == val_dataset.n_chars"
   ]
  },
  {
   "cell_type": "markdown",
   "id": "70ad05d9",
   "metadata": {},
   "source": [
    "### Define Model"
   ]
  },
  {
   "cell_type": "code",
   "execution_count": 115,
   "id": "eaa1aef3",
   "metadata": {},
   "outputs": [],
   "source": [
    "class charRNN(nn.Module):\n",
    "    def __init__(self, VOCAB_SIZE, HIDDEN_SIZE, N_LAYERS=2, P_DROPOUT=0.5, batch_first=False):\n",
    "        super().__init__()\n",
    "        self.HIDDEN_SIZE = HIDDEN_SIZE\n",
    "        self.N_LAYERS = N_LAYERS\n",
    "        self.lstm = nn.LSTM(VOCAB_SIZE, HIDDEN_SIZE, batch_first=batch_first, \n",
    "                            dropout=P_DROPOUT, num_layers=N_LAYERS)\n",
    "        self.dropout = nn.Dropout(P_DROPOUT)\n",
    "        self.fc = nn.Linear(HIDDEN_SIZE, VOCAB_SIZE)\n",
    "        \n",
    "    def forward(self, inputs, hidden):\n",
    "        lstm_out, hidden = self.lstm(inputs, hidden)\n",
    "        \n",
    "        # flatten the lstm output\n",
    "        lstm_out = torch.flatten(lstm_out, start_dim=0, end_dim=1)\n",
    "        \n",
    "        out = self.dropout(lstm_out)\n",
    "        out = self.fc(out)\n",
    "        \n",
    "        return out, hidden\n",
    "    \n",
    "    def init_hidden(self, BATCH_SIZE, device):\n",
    "        hidden = (torch.zeros((self.N_LAYERS, BATCH_SIZE, self.HIDDEN_SIZE), dtype=torch.float32).to(device),\n",
    "                  torch.zeros((self.N_LAYERS, BATCH_SIZE, self.HIDDEN_SIZE), dtype=torch.float32).to(device))\n",
    "        return hidden"
   ]
  },
  {
   "cell_type": "code",
   "execution_count": 114,
   "id": "22711b18",
   "metadata": {},
   "outputs": [],
   "source": [
    "VOCAB_SIZE = train_dataset.n_chars\n",
    "HIDDEN_SIZE = 512\n",
    "N_LAYERS = 3\n",
    "P_DROPOUT = 0.2\n",
    "BATCH_FIRST = True"
   ]
  },
  {
   "cell_type": "code",
   "execution_count": 116,
   "id": "0bf34d09",
   "metadata": {},
   "outputs": [],
   "source": [
    "model = charRNN(VOCAB_SIZE, HIDDEN_SIZE, N_LAYERS, P_DROPOUT, BATCH_FIRST)"
   ]
  },
  {
   "cell_type": "markdown",
   "id": "3f415bfc",
   "metadata": {},
   "source": [
    "### Train the model"
   ]
  },
  {
   "cell_type": "code",
   "execution_count": 117,
   "id": "848dfbae",
   "metadata": {},
   "outputs": [
    {
     "data": {
      "text/plain": [
       "charRNN(\n",
       "  (lstm): LSTM(40, 512, num_layers=3, batch_first=True, dropout=0.2)\n",
       "  (dropout): Dropout(p=0.2, inplace=False)\n",
       "  (fc): Linear(in_features=512, out_features=40, bias=True)\n",
       ")"
      ]
     },
     "execution_count": 117,
     "metadata": {},
     "output_type": "execute_result"
    }
   ],
   "source": [
    "model.to(device=device)"
   ]
  },
  {
   "cell_type": "code",
   "execution_count": 118,
   "id": "a6fa614e",
   "metadata": {},
   "outputs": [],
   "source": [
    "n_epochs = 100\n",
    "optimizer = optim.Adam(model.parameters())\n",
    "loss = nn.CrossEntropyLoss()\n",
    "clip = 5"
   ]
  },
  {
   "cell_type": "code",
   "execution_count": 127,
   "id": "5d41d9ad",
   "metadata": {},
   "outputs": [
    {
     "name": "stdout",
     "output_type": "stream",
     "text": [
      "tensor([[[1., 0., 0.,  ..., 0., 0., 0.],\n",
      "         [0., 0., 0.,  ..., 0., 0., 0.],\n",
      "         [0., 0., 0.,  ..., 0., 0., 0.],\n",
      "         ...,\n",
      "         [0., 0., 0.,  ..., 0., 0., 0.],\n",
      "         [0., 0., 0.,  ..., 0., 0., 0.],\n",
      "         [0., 0., 0.,  ..., 0., 0., 0.]],\n",
      "\n",
      "        [[1., 0., 0.,  ..., 0., 0., 0.],\n",
      "         [0., 0., 0.,  ..., 0., 0., 0.],\n",
      "         [0., 0., 0.,  ..., 0., 0., 0.],\n",
      "         ...,\n",
      "         [0., 0., 0.,  ..., 0., 0., 0.],\n",
      "         [0., 0., 0.,  ..., 0., 0., 0.],\n",
      "         [0., 0., 0.,  ..., 0., 0., 0.]],\n",
      "\n",
      "        [[1., 0., 0.,  ..., 0., 0., 0.],\n",
      "         [0., 0., 0.,  ..., 0., 0., 0.],\n",
      "         [0., 0., 0.,  ..., 0., 0., 0.],\n",
      "         ...,\n",
      "         [0., 0., 0.,  ..., 0., 0., 0.],\n",
      "         [0., 0., 0.,  ..., 0., 0., 0.],\n",
      "         [0., 0., 0.,  ..., 0., 0., 0.]],\n",
      "\n",
      "        ...,\n",
      "\n",
      "        [[1., 0., 0.,  ..., 0., 0., 0.],\n",
      "         [0., 0., 0.,  ..., 0., 0., 0.],\n",
      "         [0., 0., 0.,  ..., 0., 0., 0.],\n",
      "         ...,\n",
      "         [0., 0., 0.,  ..., 0., 0., 0.],\n",
      "         [0., 0., 0.,  ..., 0., 0., 0.],\n",
      "         [0., 0., 0.,  ..., 0., 0., 0.]],\n",
      "\n",
      "        [[1., 0., 0.,  ..., 0., 0., 0.],\n",
      "         [0., 0., 0.,  ..., 0., 0., 0.],\n",
      "         [0., 0., 0.,  ..., 0., 1., 0.],\n",
      "         ...,\n",
      "         [0., 0., 0.,  ..., 0., 0., 0.],\n",
      "         [0., 0., 0.,  ..., 0., 0., 0.],\n",
      "         [0., 0., 0.,  ..., 0., 0., 0.]],\n",
      "\n",
      "        [[1., 0., 0.,  ..., 0., 0., 0.],\n",
      "         [0., 0., 0.,  ..., 0., 0., 0.],\n",
      "         [0., 0., 0.,  ..., 0., 0., 0.],\n",
      "         ...,\n",
      "         [0., 0., 0.,  ..., 0., 0., 0.],\n",
      "         [0., 0., 0.,  ..., 0., 0., 0.],\n",
      "         [0., 0., 0.,  ..., 0., 0., 0.]]])\n",
      "tensor([[[1., 0., 0.,  ..., 0., 0., 0.],\n",
      "         [0., 0., 0.,  ..., 0., 0., 0.],\n",
      "         [0., 0., 0.,  ..., 0., 0., 0.],\n",
      "         ...,\n",
      "         [0., 1., 0.,  ..., 0., 0., 0.],\n",
      "         [0., 0., 0.,  ..., 0., 0., 0.],\n",
      "         [0., 0., 0.,  ..., 0., 0., 0.]],\n",
      "\n",
      "        [[1., 0., 0.,  ..., 0., 0., 0.],\n",
      "         [0., 0., 0.,  ..., 0., 0., 0.],\n",
      "         [0., 0., 0.,  ..., 0., 1., 0.],\n",
      "         ...,\n",
      "         [0., 0., 0.,  ..., 0., 0., 0.],\n",
      "         [0., 0., 0.,  ..., 0., 0., 0.],\n",
      "         [0., 0., 0.,  ..., 0., 0., 0.]],\n",
      "\n",
      "        [[1., 0., 0.,  ..., 0., 0., 0.],\n",
      "         [0., 0., 0.,  ..., 0., 0., 0.],\n",
      "         [0., 0., 0.,  ..., 0., 0., 0.],\n",
      "         ...,\n",
      "         [0., 0., 0.,  ..., 0., 0., 0.],\n",
      "         [0., 0., 0.,  ..., 0., 0., 0.],\n",
      "         [0., 0., 0.,  ..., 0., 0., 0.]],\n",
      "\n",
      "        ...,\n",
      "\n",
      "        [[1., 0., 0.,  ..., 0., 0., 0.],\n",
      "         [0., 0., 0.,  ..., 0., 0., 0.],\n",
      "         [0., 0., 0.,  ..., 0., 0., 0.],\n",
      "         ...,\n",
      "         [0., 0., 0.,  ..., 0., 0., 0.],\n",
      "         [0., 0., 0.,  ..., 0., 0., 0.],\n",
      "         [0., 0., 0.,  ..., 0., 0., 0.]],\n",
      "\n",
      "        [[1., 0., 0.,  ..., 0., 0., 0.],\n",
      "         [0., 0., 0.,  ..., 0., 0., 0.],\n",
      "         [0., 0., 0.,  ..., 0., 0., 0.],\n",
      "         ...,\n",
      "         [0., 0., 0.,  ..., 0., 0., 0.],\n",
      "         [0., 0., 0.,  ..., 0., 0., 0.],\n",
      "         [0., 0., 0.,  ..., 0., 0., 0.]],\n",
      "\n",
      "        [[1., 0., 0.,  ..., 0., 0., 0.],\n",
      "         [0., 0., 0.,  ..., 0., 0., 0.],\n",
      "         [0., 0., 0.,  ..., 0., 1., 0.],\n",
      "         ...,\n",
      "         [0., 0., 0.,  ..., 0., 0., 0.],\n",
      "         [0., 0., 0.,  ..., 0., 0., 0.],\n",
      "         [0., 0., 0.,  ..., 0., 0., 0.]]])\n",
      "tensor([[[1., 0., 0.,  ..., 0., 0., 0.],\n",
      "         [0., 0., 0.,  ..., 0., 0., 0.],\n",
      "         [0., 0., 0.,  ..., 0., 0., 0.],\n",
      "         ...,\n",
      "         [0., 0., 0.,  ..., 0., 0., 0.],\n",
      "         [0., 0., 0.,  ..., 0., 0., 0.],\n",
      "         [0., 0., 0.,  ..., 0., 0., 0.]],\n",
      "\n",
      "        [[1., 0., 0.,  ..., 0., 0., 0.],\n",
      "         [0., 0., 0.,  ..., 0., 0., 0.],\n",
      "         [0., 0., 0.,  ..., 0., 0., 0.],\n",
      "         ...,\n",
      "         [0., 0., 0.,  ..., 0., 0., 0.],\n",
      "         [0., 0., 0.,  ..., 0., 0., 0.],\n",
      "         [0., 0., 0.,  ..., 0., 0., 0.]],\n",
      "\n",
      "        [[1., 0., 0.,  ..., 0., 0., 0.],\n",
      "         [0., 0., 0.,  ..., 0., 0., 0.],\n",
      "         [0., 0., 0.,  ..., 0., 0., 0.],\n",
      "         ...,\n",
      "         [0., 0., 0.,  ..., 0., 0., 0.],\n",
      "         [0., 0., 0.,  ..., 0., 0., 0.],\n",
      "         [0., 0., 0.,  ..., 0., 0., 0.]],\n",
      "\n",
      "        ...,\n",
      "\n",
      "        [[1., 0., 0.,  ..., 0., 0., 0.],\n",
      "         [0., 0., 0.,  ..., 0., 0., 0.],\n",
      "         [0., 0., 0.,  ..., 0., 0., 0.],\n",
      "         ...,\n",
      "         [0., 0., 0.,  ..., 0., 0., 0.],\n",
      "         [0., 0., 0.,  ..., 0., 0., 0.],\n",
      "         [0., 0., 0.,  ..., 0., 0., 0.]],\n",
      "\n",
      "        [[1., 0., 0.,  ..., 0., 0., 0.],\n",
      "         [0., 0., 0.,  ..., 0., 0., 0.],\n",
      "         [0., 0., 0.,  ..., 0., 0., 0.],\n",
      "         ...,\n",
      "         [0., 0., 0.,  ..., 0., 0., 0.],\n",
      "         [0., 0., 0.,  ..., 0., 0., 0.],\n",
      "         [0., 0., 0.,  ..., 0., 0., 0.]],\n",
      "\n",
      "        [[1., 0., 0.,  ..., 0., 0., 0.],\n",
      "         [0., 0., 0.,  ..., 0., 0., 0.],\n",
      "         [0., 0., 0.,  ..., 0., 0., 0.],\n",
      "         ...,\n",
      "         [0., 0., 0.,  ..., 0., 0., 0.],\n",
      "         [0., 0., 0.,  ..., 0., 0., 0.],\n",
      "         [0., 0., 0.,  ..., 0., 0., 0.]]])\n",
      "tensor([[[1., 0., 0.,  ..., 0., 0., 0.],\n",
      "         [0., 0., 0.,  ..., 0., 0., 0.],\n",
      "         [0., 0., 0.,  ..., 0., 0., 0.],\n",
      "         ...,\n",
      "         [0., 0., 0.,  ..., 0., 0., 0.],\n",
      "         [0., 0., 0.,  ..., 0., 0., 0.],\n",
      "         [0., 0., 0.,  ..., 0., 0., 0.]],\n",
      "\n",
      "        [[1., 0., 0.,  ..., 0., 0., 0.],\n",
      "         [0., 0., 0.,  ..., 0., 0., 0.],\n",
      "         [0., 0., 0.,  ..., 0., 0., 0.],\n",
      "         ...,\n",
      "         [0., 0., 0.,  ..., 0., 0., 0.],\n",
      "         [0., 0., 0.,  ..., 0., 0., 0.],\n",
      "         [0., 0., 0.,  ..., 0., 0., 0.]],\n",
      "\n",
      "        [[1., 0., 0.,  ..., 0., 0., 0.],\n",
      "         [0., 0., 0.,  ..., 0., 0., 0.],\n",
      "         [0., 0., 0.,  ..., 0., 0., 0.],\n",
      "         ...,\n",
      "         [0., 0., 0.,  ..., 0., 0., 0.],\n",
      "         [0., 0., 0.,  ..., 0., 0., 0.],\n",
      "         [0., 0., 0.,  ..., 0., 0., 0.]],\n",
      "\n",
      "        ...,\n",
      "\n",
      "        [[1., 0., 0.,  ..., 0., 0., 0.],\n",
      "         [0., 0., 0.,  ..., 0., 0., 0.],\n",
      "         [0., 0., 0.,  ..., 0., 0., 0.],\n",
      "         ...,\n",
      "         [0., 0., 0.,  ..., 0., 0., 0.],\n",
      "         [0., 0., 0.,  ..., 0., 0., 0.],\n",
      "         [0., 0., 0.,  ..., 0., 0., 0.]],\n",
      "\n",
      "        [[1., 0., 0.,  ..., 0., 0., 0.],\n",
      "         [0., 0., 0.,  ..., 0., 0., 0.],\n",
      "         [0., 0., 0.,  ..., 0., 0., 0.],\n",
      "         ...,\n",
      "         [0., 0., 0.,  ..., 0., 0., 0.],\n",
      "         [0., 0., 0.,  ..., 0., 0., 0.],\n",
      "         [0., 0., 0.,  ..., 0., 0., 0.]],\n",
      "\n",
      "        [[1., 0., 0.,  ..., 0., 0., 0.],\n",
      "         [0., 0., 0.,  ..., 0., 0., 0.],\n",
      "         [0., 0., 0.,  ..., 0., 0., 0.],\n",
      "         ...,\n",
      "         [0., 0., 0.,  ..., 0., 0., 0.],\n",
      "         [0., 0., 0.,  ..., 0., 0., 0.],\n",
      "         [0., 0., 0.,  ..., 0., 0., 0.]]])\n",
      "tensor([[[1., 0., 0.,  ..., 0., 0., 0.],\n",
      "         [0., 0., 0.,  ..., 0., 0., 0.],\n",
      "         [0., 0., 0.,  ..., 0., 0., 0.],\n",
      "         ...,\n",
      "         [0., 0., 0.,  ..., 0., 0., 0.],\n",
      "         [0., 0., 0.,  ..., 0., 0., 0.],\n",
      "         [0., 0., 0.,  ..., 0., 0., 0.]],\n",
      "\n",
      "        [[1., 0., 0.,  ..., 0., 0., 0.],\n",
      "         [0., 0., 0.,  ..., 0., 0., 0.],\n",
      "         [0., 0., 0.,  ..., 0., 0., 0.],\n",
      "         ...,\n",
      "         [0., 0., 0.,  ..., 0., 0., 0.],\n",
      "         [0., 0., 0.,  ..., 0., 0., 0.],\n",
      "         [0., 0., 0.,  ..., 0., 0., 0.]],\n",
      "\n",
      "        [[1., 0., 0.,  ..., 0., 0., 0.],\n",
      "         [0., 0., 0.,  ..., 0., 0., 0.],\n",
      "         [0., 0., 0.,  ..., 0., 0., 0.],\n",
      "         ...,\n",
      "         [0., 0., 0.,  ..., 0., 0., 0.],\n",
      "         [0., 0., 0.,  ..., 0., 0., 0.],\n",
      "         [0., 0., 0.,  ..., 0., 0., 0.]],\n",
      "\n",
      "        ...,\n",
      "\n",
      "        [[1., 0., 0.,  ..., 0., 0., 0.],\n",
      "         [0., 0., 0.,  ..., 0., 0., 0.],\n",
      "         [0., 0., 0.,  ..., 0., 0., 0.],\n",
      "         ...,\n",
      "         [0., 0., 0.,  ..., 0., 0., 0.],\n",
      "         [0., 0., 0.,  ..., 0., 0., 0.],\n",
      "         [0., 0., 0.,  ..., 0., 0., 0.]],\n",
      "\n",
      "        [[1., 0., 0.,  ..., 0., 0., 0.],\n",
      "         [0., 0., 0.,  ..., 0., 0., 0.],\n",
      "         [0., 0., 0.,  ..., 0., 1., 0.],\n",
      "         ...,\n",
      "         [0., 0., 0.,  ..., 0., 0., 0.],\n",
      "         [0., 0., 0.,  ..., 0., 0., 0.],\n",
      "         [0., 0., 0.,  ..., 0., 0., 0.]],\n",
      "\n",
      "        [[1., 0., 0.,  ..., 0., 0., 0.],\n",
      "         [0., 0., 0.,  ..., 0., 0., 0.],\n",
      "         [0., 0., 0.,  ..., 0., 1., 0.],\n",
      "         ...,\n",
      "         [0., 0., 0.,  ..., 0., 0., 0.],\n",
      "         [0., 0., 0.,  ..., 0., 0., 0.],\n",
      "         [0., 0., 0.,  ..., 0., 0., 0.]]])\n",
      "tensor([[[1., 0., 0.,  ..., 0., 0., 0.],\n",
      "         [0., 0., 0.,  ..., 0., 0., 0.],\n",
      "         [0., 0., 0.,  ..., 0., 1., 0.],\n",
      "         ...,\n",
      "         [0., 0., 0.,  ..., 0., 0., 0.],\n",
      "         [0., 0., 0.,  ..., 0., 0., 0.],\n",
      "         [0., 0., 0.,  ..., 0., 0., 0.]],\n",
      "\n",
      "        [[1., 0., 0.,  ..., 0., 0., 0.],\n",
      "         [0., 0., 0.,  ..., 0., 0., 0.],\n",
      "         [0., 0., 0.,  ..., 0., 1., 0.],\n",
      "         ...,\n",
      "         [0., 0., 0.,  ..., 0., 0., 0.],\n",
      "         [0., 0., 0.,  ..., 0., 0., 0.],\n",
      "         [0., 0., 0.,  ..., 0., 0., 0.]],\n",
      "\n",
      "        [[1., 0., 0.,  ..., 0., 0., 0.],\n",
      "         [0., 0., 0.,  ..., 0., 0., 0.],\n",
      "         [0., 0., 0.,  ..., 0., 0., 0.],\n",
      "         ...,\n",
      "         [0., 0., 0.,  ..., 0., 0., 0.],\n",
      "         [0., 0., 0.,  ..., 0., 0., 0.],\n",
      "         [0., 0., 0.,  ..., 0., 0., 0.]],\n",
      "\n",
      "        ...,\n",
      "\n",
      "        [[1., 0., 0.,  ..., 0., 0., 0.],\n",
      "         [0., 0., 0.,  ..., 0., 0., 0.],\n",
      "         [0., 0., 0.,  ..., 0., 1., 0.],\n",
      "         ...,\n",
      "         [0., 0., 0.,  ..., 0., 0., 0.],\n",
      "         [0., 0., 0.,  ..., 0., 0., 0.],\n",
      "         [0., 0., 0.,  ..., 0., 0., 0.]],\n",
      "\n",
      "        [[1., 0., 0.,  ..., 0., 0., 0.],\n",
      "         [0., 0., 0.,  ..., 0., 0., 0.],\n",
      "         [0., 0., 0.,  ..., 0., 0., 0.],\n",
      "         ...,\n",
      "         [0., 0., 0.,  ..., 0., 0., 0.],\n",
      "         [0., 0., 0.,  ..., 0., 0., 0.],\n",
      "         [0., 0., 0.,  ..., 0., 0., 0.]],\n",
      "\n",
      "        [[1., 0., 0.,  ..., 0., 0., 0.],\n",
      "         [0., 0., 0.,  ..., 0., 0., 0.],\n",
      "         [0., 0., 0.,  ..., 0., 1., 0.],\n",
      "         ...,\n",
      "         [0., 0., 0.,  ..., 0., 0., 0.],\n",
      "         [0., 0., 0.,  ..., 0., 0., 0.],\n",
      "         [0., 0., 0.,  ..., 0., 0., 0.]]])\n"
     ]
    }
   ],
   "source": [
    "for data_batch in train_dataloader:\n",
    "    print(data_batch)"
   ]
  },
  {
   "cell_type": "code",
   "execution_count": 119,
   "id": "96619dae",
   "metadata": {},
   "outputs": [
    {
     "name": "stderr",
     "output_type": "stream",
     "text": [
      "  1%|          | 1/100 [00:03<05:20,  3.24s/it]"
     ]
    },
    {
     "name": "stdout",
     "output_type": "stream",
     "text": [
      "0.0\n"
     ]
    },
    {
     "name": "stderr",
     "output_type": "stream",
     "text": [
      "  2%|▏         | 2/100 [00:06<05:06,  3.13s/it]"
     ]
    },
    {
     "name": "stdout",
     "output_type": "stream",
     "text": [
      "0.0\n"
     ]
    },
    {
     "name": "stderr",
     "output_type": "stream",
     "text": [
      "  3%|▎         | 3/100 [00:09<04:52,  3.02s/it]"
     ]
    },
    {
     "name": "stdout",
     "output_type": "stream",
     "text": [
      "0.0\n"
     ]
    },
    {
     "name": "stderr",
     "output_type": "stream",
     "text": [
      "  4%|▍         | 4/100 [00:12<04:51,  3.04s/it]"
     ]
    },
    {
     "name": "stdout",
     "output_type": "stream",
     "text": [
      "0.0\n"
     ]
    },
    {
     "name": "stderr",
     "output_type": "stream",
     "text": [
      "  5%|▌         | 5/100 [00:15<04:46,  3.02s/it]"
     ]
    },
    {
     "name": "stdout",
     "output_type": "stream",
     "text": [
      "0.0\n"
     ]
    },
    {
     "name": "stderr",
     "output_type": "stream",
     "text": [
      "  6%|▌         | 6/100 [00:18<04:43,  3.01s/it]"
     ]
    },
    {
     "name": "stdout",
     "output_type": "stream",
     "text": [
      "0.0\n"
     ]
    },
    {
     "name": "stderr",
     "output_type": "stream",
     "text": [
      "  7%|▋         | 7/100 [00:21<04:44,  3.06s/it]"
     ]
    },
    {
     "name": "stdout",
     "output_type": "stream",
     "text": [
      "0.0\n"
     ]
    },
    {
     "name": "stderr",
     "output_type": "stream",
     "text": [
      "  8%|▊         | 8/100 [00:24<04:42,  3.07s/it]"
     ]
    },
    {
     "name": "stdout",
     "output_type": "stream",
     "text": [
      "0.0\n"
     ]
    },
    {
     "name": "stderr",
     "output_type": "stream",
     "text": [
      "  9%|▉         | 9/100 [00:27<04:40,  3.09s/it]"
     ]
    },
    {
     "name": "stdout",
     "output_type": "stream",
     "text": [
      "0.0\n"
     ]
    },
    {
     "name": "stderr",
     "output_type": "stream",
     "text": [
      "  9%|▉         | 9/100 [00:30<05:05,  3.35s/it]\n"
     ]
    },
    {
     "ename": "KeyboardInterrupt",
     "evalue": "",
     "output_type": "error",
     "traceback": [
      "\u001b[1;31m---------------------------------------------------------------------------\u001b[0m",
      "\u001b[1;31mKeyboardInterrupt\u001b[0m                         Traceback (most recent call last)",
      "Cell \u001b[1;32mIn[119], line 36\u001b[0m\n\u001b[0;32m     34\u001b[0m \u001b[38;5;66;03m# backpropagation\u001b[39;00m\n\u001b[0;32m     35\u001b[0m optimizer\u001b[38;5;241m.\u001b[39mzero_grad()\n\u001b[1;32m---> 36\u001b[0m \u001b[43mtrain_loss\u001b[49m\u001b[38;5;241;43m.\u001b[39;49m\u001b[43mbackward\u001b[49m\u001b[43m(\u001b[49m\u001b[43m)\u001b[49m\n\u001b[0;32m     38\u001b[0m \u001b[38;5;66;03m# clip the gradient before updating the weights\u001b[39;00m\n\u001b[0;32m     39\u001b[0m clip_grad_norm_(model\u001b[38;5;241m.\u001b[39mparameters(), clip)\n",
      "File \u001b[1;32mc:\\Python\\Python311\\Lib\\site-packages\\torch\\_tensor.py:492\u001b[0m, in \u001b[0;36mTensor.backward\u001b[1;34m(self, gradient, retain_graph, create_graph, inputs)\u001b[0m\n\u001b[0;32m    482\u001b[0m \u001b[38;5;28;01mif\u001b[39;00m has_torch_function_unary(\u001b[38;5;28mself\u001b[39m):\n\u001b[0;32m    483\u001b[0m     \u001b[38;5;28;01mreturn\u001b[39;00m handle_torch_function(\n\u001b[0;32m    484\u001b[0m         Tensor\u001b[38;5;241m.\u001b[39mbackward,\n\u001b[0;32m    485\u001b[0m         (\u001b[38;5;28mself\u001b[39m,),\n\u001b[1;32m   (...)\u001b[0m\n\u001b[0;32m    490\u001b[0m         inputs\u001b[38;5;241m=\u001b[39minputs,\n\u001b[0;32m    491\u001b[0m     )\n\u001b[1;32m--> 492\u001b[0m \u001b[43mtorch\u001b[49m\u001b[38;5;241;43m.\u001b[39;49m\u001b[43mautograd\u001b[49m\u001b[38;5;241;43m.\u001b[39;49m\u001b[43mbackward\u001b[49m\u001b[43m(\u001b[49m\n\u001b[0;32m    493\u001b[0m \u001b[43m    \u001b[49m\u001b[38;5;28;43mself\u001b[39;49m\u001b[43m,\u001b[49m\u001b[43m \u001b[49m\u001b[43mgradient\u001b[49m\u001b[43m,\u001b[49m\u001b[43m \u001b[49m\u001b[43mretain_graph\u001b[49m\u001b[43m,\u001b[49m\u001b[43m \u001b[49m\u001b[43mcreate_graph\u001b[49m\u001b[43m,\u001b[49m\u001b[43m \u001b[49m\u001b[43minputs\u001b[49m\u001b[38;5;241;43m=\u001b[39;49m\u001b[43minputs\u001b[49m\n\u001b[0;32m    494\u001b[0m \u001b[43m\u001b[49m\u001b[43m)\u001b[49m\n",
      "File \u001b[1;32mc:\\Python\\Python311\\Lib\\site-packages\\torch\\autograd\\__init__.py:251\u001b[0m, in \u001b[0;36mbackward\u001b[1;34m(tensors, grad_tensors, retain_graph, create_graph, grad_variables, inputs)\u001b[0m\n\u001b[0;32m    246\u001b[0m     retain_graph \u001b[38;5;241m=\u001b[39m create_graph\n\u001b[0;32m    248\u001b[0m \u001b[38;5;66;03m# The reason we repeat the same comment below is that\u001b[39;00m\n\u001b[0;32m    249\u001b[0m \u001b[38;5;66;03m# some Python versions print out the first line of a multi-line function\u001b[39;00m\n\u001b[0;32m    250\u001b[0m \u001b[38;5;66;03m# calls in the traceback and some print out the last line\u001b[39;00m\n\u001b[1;32m--> 251\u001b[0m \u001b[43mVariable\u001b[49m\u001b[38;5;241;43m.\u001b[39;49m\u001b[43m_execution_engine\u001b[49m\u001b[38;5;241;43m.\u001b[39;49m\u001b[43mrun_backward\u001b[49m\u001b[43m(\u001b[49m\u001b[43m  \u001b[49m\u001b[38;5;66;43;03m# Calls into the C++ engine to run the backward pass\u001b[39;49;00m\n\u001b[0;32m    252\u001b[0m \u001b[43m    \u001b[49m\u001b[43mtensors\u001b[49m\u001b[43m,\u001b[49m\n\u001b[0;32m    253\u001b[0m \u001b[43m    \u001b[49m\u001b[43mgrad_tensors_\u001b[49m\u001b[43m,\u001b[49m\n\u001b[0;32m    254\u001b[0m \u001b[43m    \u001b[49m\u001b[43mretain_graph\u001b[49m\u001b[43m,\u001b[49m\n\u001b[0;32m    255\u001b[0m \u001b[43m    \u001b[49m\u001b[43mcreate_graph\u001b[49m\u001b[43m,\u001b[49m\n\u001b[0;32m    256\u001b[0m \u001b[43m    \u001b[49m\u001b[43minputs\u001b[49m\u001b[43m,\u001b[49m\n\u001b[0;32m    257\u001b[0m \u001b[43m    \u001b[49m\u001b[43mallow_unreachable\u001b[49m\u001b[38;5;241;43m=\u001b[39;49m\u001b[38;5;28;43;01mTrue\u001b[39;49;00m\u001b[43m,\u001b[49m\n\u001b[0;32m    258\u001b[0m \u001b[43m    \u001b[49m\u001b[43maccumulate_grad\u001b[49m\u001b[38;5;241;43m=\u001b[39;49m\u001b[38;5;28;43;01mTrue\u001b[39;49;00m\u001b[43m,\u001b[49m\n\u001b[0;32m    259\u001b[0m \u001b[43m\u001b[49m\u001b[43m)\u001b[49m\n",
      "\u001b[1;31mKeyboardInterrupt\u001b[0m: "
     ]
    }
   ],
   "source": [
    "train_loss_list = []\n",
    "val_loss_list = []\n",
    "\n",
    "for epoch in tqdm(range(n_epochs)):  \n",
    "    \n",
    "    # training\n",
    "    # -------------\n",
    "\n",
    "    n_batches_train = 0\n",
    "    cummulative_loss_train = 0 \n",
    "    \n",
    "    model.train()\n",
    "    \n",
    "    # initialize hidden state\n",
    "    hidden = model.init_hidden(BATCH_SIZE, device)\n",
    "    \n",
    "    for data_batch in train_dataloader:\n",
    "        \n",
    "        # detach hidden state\n",
    "        hidden = tuple([h.detach() for h in hidden])\n",
    "        \n",
    "        if data_batch.shape[0] != BATCH_SIZE:\n",
    "            continue\n",
    "        \n",
    "        # get data\n",
    "        labels, targets = data_batch[:, :-1, :].to(device), data_batch[:, 1:, :].to(device)\n",
    "        # get predictions\n",
    "        preds, hidden = model(labels, hidden)\n",
    "        # compute loss\n",
    "        target_idx = torch.argmax(targets, dim=2).long()\n",
    "        target_flatten = torch.flatten(target_idx, start_dim=0, end_dim=1)\n",
    "        train_loss = loss(preds, target_flatten)\n",
    "\n",
    "        # backpropagation\n",
    "        optimizer.zero_grad()\n",
    "        train_loss.backward()\n",
    "        \n",
    "        # clip the gradient before updating the weights\n",
    "        clip_grad_norm_(model.parameters(), clip)\n",
    "        optimizer.step()\n",
    "        \n",
    "        n_batches_train += 1\n",
    "        cummulative_loss_train += train_loss.item()\n",
    "        \n",
    "    loss_per_epoch_train = cummulative_loss_train / n_batches_train\n",
    "    train_loss_list.append(loss_per_epoch_train)\n",
    "    \n",
    "    # validation\n",
    "    # ---------------\n",
    "    \n",
    "    n_batches_val = 0\n",
    "    cummulative_loss_val = 0 \n",
    "    \n",
    "    model.eval()\n",
    "    hidden = model.init_hidden(BATCH_SIZE, device)\n",
    "    \n",
    "    for data_batch in val_dataloader:\n",
    "        \n",
    "        if data_batch.shape[0] != BATCH_SIZE:\n",
    "            continue\n",
    "\n",
    "        hidden = model.init_hidden(BATCH_SIZE, device)\n",
    "        \n",
    "        # get data\n",
    "        labels, targets = data_batch[:, :-1, :].to(device), data_batch[:, 1:, :].to(device)\n",
    "        # get predictions\n",
    "        with torch.no_grad():\n",
    "            preds, hidden = model(labels, hidden)\n",
    "            # compute loss\n",
    "            target_idx = torch.argmax(targets, dim=2).long()\n",
    "            target_flatten = torch.flatten(target_idx, start_dim=0, end_dim=1)\n",
    "            val_loss = loss(preds, target_flatten)\n",
    "            \n",
    "        n_batches_val += 1\n",
    "        cummulative_loss_val += val_loss.item()\n",
    "    \n",
    "    loss_per_epoch_val = cummulative_loss_val / (n_batches_val + 0.01)\n",
    "    val_loss_list.append(loss_per_epoch_val)\n",
    "    print(loss_per_epoch_val)\n",
    "    \n",
    "    # save the model for every 10 epochs\n",
    "    if epoch % 10 == 0:\n",
    "        save_path = f\"app/info_rnn_model_{epoch}.pt\"\n",
    "        torch.save(model.state_dict(), save_path)\n"
   ]
  },
  {
   "cell_type": "markdown",
   "id": "1d5a8da0",
   "metadata": {},
   "source": [
    "#### Plot the curves"
   ]
  },
  {
   "cell_type": "code",
   "execution_count": 108,
   "id": "559d740f",
   "metadata": {},
   "outputs": [
    {
     "data": {
      "text/plain": [
       "<matplotlib.legend.Legend at 0x24244aa7090>"
      ]
     },
     "execution_count": 108,
     "metadata": {},
     "output_type": "execute_result"
    },
    {
     "data": {
      "image/png": "[encoded data removed]",
      "text/plain": [
       "<Figure size 800x600 with 1 Axes>"
      ]
     },
     "metadata": {},
     "output_type": "display_data"
    }
   ],
   "source": [
    "fig, axes = plt.subplots(1, 1, figsize=(8, 6))\n",
    "\n",
    "axes.plot(list(range(n_epochs)), train_loss_list, label=\"train loss\")\n",
    "axes.plot(list(range(n_epochs)), val_loss_list, color='orange', label=\"val loss\")\n",
    "\n",
    "axes.set_xlabel(\"Epoch\")\n",
    "axes.set_ylabel(\"Loss\")\n",
    "\n",
    "plt.legend()"
   ]
  },
  {
   "cell_type": "markdown",
   "id": "d7a7991a",
   "metadata": {},
   "source": [
    "### Generating Text"
   ]
  },
  {
   "cell_type": "code",
   "execution_count": 109,
   "id": "bfdd03f8",
   "metadata": {},
   "outputs": [],
   "source": [
    "class GenerateText:\n",
    "    def __init__(self, model, k, int2char, char2int, device):\n",
    "        self.int2char = int2char\n",
    "        self.char2int = char2int\n",
    "        self.n_chars = len(int2char)\n",
    "        self.model = model\n",
    "        self.device = device\n",
    "        self.k = k\n",
    "        self.sos_token = self.int2char[0]\n",
    "        self.eos_token = self.int2char[1]\n",
    "        \n",
    "    def predict_next_char(self, hidden, input_char):\n",
    "        \n",
    "        # encode char\n",
    "        char_one_hot = self.encode_char(input_char)\n",
    "\n",
    "        # get the predictions\n",
    "        with torch.no_grad():\n",
    "            out, hidden = self.model(char_one_hot, hidden)\n",
    "            \n",
    "            # convert the output to a character probability distribution\n",
    "            p = F.softmax(out, dim=1)\n",
    "\n",
    "            # move to cpu as numpy doesn't support gpu\n",
    "            p = p.cpu()\n",
    "\n",
    "            # get top k characters from the distribution\n",
    "            values, indices = p.topk(self.k)\n",
    "\n",
    "        indices = indices.squeeze().numpy()\n",
    "        values = values.squeeze().numpy()\n",
    "\n",
    "        # sample any char from the top k chars using the output softmax distribution\n",
    "        char_pred = np.random.choice(indices, size=1, p=values/values.sum())\n",
    "\n",
    "        return self.int2char[char_pred[0]], hidden\n",
    "    \n",
    "    def generate_text(self, prime, max_chars=80):\n",
    "        \n",
    "        prime = self.sos_token + prime\n",
    "        print(prime)\n",
    "\n",
    "        all_chars = [char for char in prime]\n",
    "        hidden = model.init_hidden(1, self.device)\n",
    "\n",
    "        # build up the hidden state using the initial prime\n",
    "        for char in prime:\n",
    "            char_pred, hidden = self.predict_next_char(hidden, char)\n",
    "\n",
    "        all_chars.append(char_pred)\n",
    "\n",
    "        # generate n chars\n",
    "        c = 0\n",
    "        while char_pred != self.eos_token:\n",
    "            if c == max_chars:\n",
    "                break\n",
    "            char_pred, hidden = self.predict_next_char(hidden, all_chars[-1])\n",
    "            all_chars.append(char_pred)\n",
    "            c += 1\n",
    "\n",
    "        return \"\".join(all_chars)\n",
    "        \n",
    "    def encode_char(self, char):\n",
    "        char_int = self.char2int[char]\n",
    "        char_one_hot = F.one_hot(torch.tensor(char_int), self.n_chars).float()\n",
    "        return char_one_hot.unsqueeze(0).unsqueeze(0).to(self.device)"
   ]
  },
  {
   "cell_type": "code",
   "execution_count": 110,
   "id": "c057a02e",
   "metadata": {},
   "outputs": [],
   "source": [
    "k = 5"
   ]
  },
  {
   "cell_type": "code",
   "execution_count": 111,
   "id": "7dc74bf0",
   "metadata": {},
   "outputs": [],
   "source": [
    "text_generator = GenerateText(model, k, train_dataset.int2char, train_dataset.char2int, device)"
   ]
  },
  {
   "cell_type": "code",
   "execution_count": 112,
   "id": "ae2afab9",
   "metadata": {},
   "outputs": [
    {
     "name": "stdout",
     "output_type": "stream",
     "text": [
      "[solid\n"
     ]
    },
    {
     "data": {
      "text/plain": [
       "'[solid eas   [[ [[[e[ e[[se[a [s[ [a[[[[[[ee[[[e[[a[[see[[  [s[  [eaea[e [[[es[[  [[[  aea[[ [[[ s[[ '"
      ]
     },
     "execution_count": 112,
     "metadata": {},
     "output_type": "execute_result"
    }
   ],
   "source": [
    "text_generator.generate_text('solid', max_chars=optimum_length)"
   ]
  },
  {
   "cell_type": "code",
   "execution_count": null,
   "id": "cb195054",
   "metadata": {},
   "outputs": [],
   "source": []
  }
 ],
 "metadata": {
  "kernelspec": {
   "display_name": "Python 3 (ipykernel)",
   "language": "python",
   "name": "python3"
  },
  "language_info": {
   "codemirror_mode": {
    "name": "ipython",
    "version": 3
   },
   "file_extension": ".py",
   "mimetype": "text/x-python",
   "name": "python",
   "nbconvert_exporter": "python",
   "pygments_lexer": "ipython3",
   "version": "3.11.2"
  }
 },
 "nbformat": 4,
 "nbformat_minor": 5
}
