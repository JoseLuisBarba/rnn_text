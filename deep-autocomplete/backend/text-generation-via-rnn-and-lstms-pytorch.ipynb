{
 "cells": [
  {
   "cell_type": "markdown",
   "metadata": {},
   "source": [
    "# Recurrent Neural Network\n",
    "\n",
    "## References\n",
    "\n",
    "1. [Udacity's Deep Learning Nanodegree](https://classroom.udacity.com/nanodegrees/nd101-ent/syllabus/core-curriculum) \n",
    "2. [Machine Talk](https://machinetalk.org/2019/02/08/text-generation-with-pytorch/)\n",
    "3. [KD Nuggets tutorial on text generation via LSTM](https://www.kdnuggets.com/2020/07/pytorch-lstm-text-generation-tutorial.html)\n",
    "4. [Pytorch official documentation](https://pytorch.org/tutorials/intermediate/char_rnn_generation_tutorial.html)\n",
    "\n",
    "Some applications of deep-learning involve temporal-dependencies i.e. dependencies over time i.e. not just on current input but also on past inputs. RNNs are similar to feed-forward networks but in addition to *memory*.<br>\n",
    "\n",
    "<img src=\"https://github.com/purvasingh96/Talking-points-global-hackathon/blob/master/assets/RNNs%20-%20Temporal%20Dependencies.png?raw=1\" width=\"250\" height=\"40%\"></img>\n",
    "\n",
    "In RNNs, the current output *y* depends not only on current input *x*, but also on memory element *s*, that takes into account past inputs. \n",
    "\n",
    "RNNs also attempt to address the need of capturing information in previous inputs by maintaining internal memory elements called *States.*<br><br>\n",
    "\n",
    "<img src=\"https://github.com/purvasingh96/Talking-points-global-hackathon/blob/master/assets/RNNs-%20States.png?raw=1\" width=\"300\"></img>\n",
    "\n",
    "## Applications of RNNs\n",
    "\n",
    "1. Some of the applications of RNN requires predicting the next word in the sentence which requires looking at *last few words instead of the current one.*\n",
    "\n",
    "2. Sentiment Analysis\n",
    "3. Speech Recognition\n",
    "4. Time Series Prediction\n",
    "5. NLP\n",
    "6. Gesture Recognition\n",
    "\n",
    "## Structure of RNNs\n",
    "Below are the folded and unfolded sructure of RNNs - <br>\n",
    "\n",
    "| Folded RNN                                                    | Un-folded RNN                                               |\n",
    "|---------------------------------------------------------------|-------------------------------------------------------------|\n",
    "| <img  src=\"https://github.com/purvasingh96/Talking-points-global-hackathon/blob/master/assets/RNN-%20Folded%20Model.png?raw=1\" width=\"300\"></img> | <img  src=\"https://github.com/purvasingh96/Talking-points-global-hackathon/blob/master/assets/RNNs%20-%20Unfolded.png?raw=1\" width=\"300\"></img> |\n",
    "\n"
   ]
  },
  {
   "cell_type": "markdown",
   "metadata": {},
   "source": [
    "# Back Propogation Through Time (BPTT)\n",
    "\n",
    "Lets look at the timestep t=3, the error associated w.r.t Wx depends on : vector S3 and its predecessor S2 and S1.<br>\n",
    "\n",
    "<img src=\"https://github.com/purvasingh96/Talking-points-global-hackathon/blob/master/assets/BPTT.png?raw=1\" width=\"600\"></img><br>\n",
    "\n",
    "Looking at the pattern above while calculating the *accumulative gradient*, we can generalize the formula for Back Propogation Through Time (BPTT)as follows - <br>\n",
    "\n",
    "<img src=\"https://github.com/purvasingh96/Talking-points-global-hackathon/blob/master/assets/General%20formula%20for%20BPTT.png?raw=1\" width=\"300\"></img><br>\n",
    "\n"
   ]
  },
  {
   "cell_type": "markdown",
   "metadata": {},
   "source": [
    "# Drawbacks of RNNs\n",
    "\n",
    "## Vanishing Gradient Problem\n",
    "\n",
    "In RNNs, if we continue to back-propogate further after 8-9 time steps, the contributions of information (graident) keeps on decreading geometrically over time which is known as the *vanishing gradient problem.* Here is where the **LSTM** comes into picture.<br>\n",
    "\n",
    "<img src=\"https://github.com/purvasingh96/Talking-points-global-hackathon/blob/master/assets/LSTM%20Intro.png?raw=1\" width=\"600\"></img>\n",
    "\n",
    "## Exploding Gradient Problem\n",
    "\n",
    "In RNNs we can also have the opposite problem, called the *exploding gradient* problem, in which the value of the gradient grows uncontrollably. A simple solution for the exploding gradient problem is **Gradient Clipping.**\n",
    "\n",
    "<img src=\"https://github.com/purvasingh96/Talking-points-global-hackathon/blob/master/assets/Gradient%20Clipping.png?raw=1\" width=\"500\"></img>\n"
   ]
  },
  {
   "cell_type": "markdown",
   "metadata": {},
   "source": [
    "# Long Short Term Memory Cells (LSTM Cells)\n",
    "\n",
    "## Basics of LSTM\n",
    "\n",
    "Basic RNN was unable to retain long term memory to make prediction regarding the current picture is that od a wolf or dog. This is where LSTM comes into picture. The LSTM cell allows a recurrent system to learn over many time steps without the fear of losing information due to the vanishing gradient problem. It is fully differentiable, therefore gives us the option of easily using backpropagation when updating the weights. Below is the a sample mathematical model of an LSTM cell - <br>\n",
    "\n",
    "<img src=\"https://github.com/purvasingh96/Talking-points-global-hackathon/blob/master/assets/01.lstm_cell.png?raw=1\" width=\"300\"></img><br>\n",
    "\n",
    "\n",
    "In an LSTM, we would expect the following behaviour -\n",
    "\n",
    "\n",
    "| Expected Behaviour of LSTM                                                                   | Reference Diagram                                                       |\n",
    "|----------------------------------------------------------------------------------------------|-------------------------------------------------------------------------|\n",
    "| 1. Long Term Memory (LTM) and Short Term Memory (STM) to combine and produce correct output. | <img src=\"https://github.com/purvasingh96/Talking-points-global-hackathon/blob/master/assets/05.%20lstm_basics_1.png?raw=1\" width=\"300\"> |\n",
    "| 2. LTM and STM and event should update the new LTM.                                          | </img>  <img src=\"https://github.com/purvasingh96/Talking-points-global-hackathon/blob/master/assets/06.%20lstm_basics_2.png?raw=1\" width=\"300\"></img>  |\n",
    "| 3. LTM and STM and event should update the new STM.                                          | <img src=\"https://github.com/purvasingh96/Talking-points-global-hackathon/blob/master/assets/07.%20lstm_basics_3.png?raw=1\" width=\"300\"></img>          |\n",
    "\n",
    "\n",
    "\n",
    "## How LSTMs work?\n",
    "\n",
    "| LSTM consists of 4 types of gates -  <br>1. Forget Gate<br>  2. Learn Gate<br> 3. Remember Gate<br> 4. Use Gate<br> | <img src=\"https://github.com/purvasingh96/Talking-points-global-hackathon/blob/master/assets/10.%20lstm_architecture_02.png?raw=1\" width=\"530px\" height=\"250px\"></img> |\n",
    "|-------------------------------------------------------------------------------------------------|--------------------------------------------------------------------------------------|\n",
    "\n",
    "### LSTM Explained\n",
    "Assume the following - \n",
    "1. LTM = Elephant\n",
    "2. STM = Fish\n",
    "3. Event = Wolf/Dog\n",
    "\n",
    "| LSTM Operations                                                                                                                                                                                            | Reference Video                                      |\n",
    "|------------------------------------------------------------------------------------------------------------------------------------------------------------------------------------------------------------|------------------------------------------------------|\n",
    "| **LSTM places LTM, STM and Event as follows -**<br> 1. Forget Gate = LTM<br>  2. Learn Gate = STM + Event<br> 3. Remember Gate = LTM + STM + Event<br> 4. Use Gate = LTM + STM + Event<br> 5. In the end, LTM and STM are updated.<br> | <img src=\"https://github.com/purvasingh96/Talking-points-global-hackathon/blob/master/assets/Animated%20GIF-downsized_large.gif?raw=1\"></img> |\n",
    "\n",
    "\n",
    "## General Architecture of LSTM \n",
    "\n",
    "<img src=\"https://github.com/purvasingh96/Talking-points-global-hackathon/blob/master/assets/LSTM%20Architecture.png?raw=1\" width=\"400\"><img>\n",
    "\n",
    "\n",
    "\n",
    "\n",
    "## Learn Gate\n",
    "Learn gate takes into account **short-term memory and event** and then ignores a part of it and retains only a part of information.<br>\n",
    "<img src=\"https://github.com/purvasingh96/Talking-points-global-hackathon/blob/master/assets/11.%20learn_gate.png?raw=1\" height=\"200px\" width=\"500px\"></img>\n",
    "\n",
    "### Mathematically Explained\n",
    "STM and Event are combined together through **activation function** (tanh), which we further multiply it by a **ignore factor** as follows -<br>\n",
    "\n",
    "<img src=\"https://github.com/purvasingh96/Talking-points-global-hackathon/blob/master/assets/12.lean_gate_equation.png?raw=1\" height=\"200px\" width=\"500px\"></img>\n",
    "\n",
    "## Forget Gate\n",
    "Forget gate takes into account the LTM and decides which part of it to keep and which part of LTM is useless and forgets it. LTM gets multiplied by a **forget factor** inroder to forget useless parts of LTM. <br>\n",
    "<img src=\"https://github.com/purvasingh96/Talking-points-global-hackathon/blob/master/assets/13.%20forget_gate.png?raw=1\" height=\"200px\" width=\"500px\"></img>\n",
    "\n",
    "## Remember Gate\n",
    "Remember gate takes LTM coming from Forget gate and STM coming from Learn gate and combines them together. Mathematically, remember gate adds LTM and STM.<br><br>\n",
    "<img src=\"https://github.com/purvasingh96/Talking-points-global-hackathon/blob/master/assets/14.%20remember_gate.png?raw=1\" height=\"200px\" width=\"400px\"></img> <img src=\"https://github.com/purvasingh96/Talking-points-global-hackathon/blob/master/assets/15.%20remember_gate_equation.png?raw=1\" height=\"200px\" width=\"450px\"></img>\n",
    "\n",
    "## Use Gate\n",
    "Use gate takes what is useful from LTM and what's useful from STM and generates a new LTM.<br><br>\n",
    "<img src=\"https://github.com/purvasingh96/Talking-points-global-hackathon/blob/master/assets/16.%20use_gate.png?raw=1\" height=\"200px\" width=\"400px\"></img> <img src=\"https://github.com/purvasingh96/Talking-points-global-hackathon/blob/master/assets/17.%20use_gate_equation.png?raw=1\" height=\"200px\" width=\"450px\"></img>\n",
    "\n",
    "\n",
    "\n",
    "\n",
    "\n"
   ]
  },
  {
   "cell_type": "markdown",
   "metadata": {},
   "source": [
    "# RNNs and LSTM for Text Generation\n",
    "\n",
    "\n",
    "## Drawbacks of one-hot encoding \n",
    "\n",
    "Considering an example of an excert from a book containing large collection of dataset and when you use these words as an input to RNN, we can one-hot encode them, but this would mean that we will end up having giant vector with mostly zeros except that one entry as shown below:<br>\n",
    "\n",
    "<img src=\"https://github.com/purvasingh96/Talking-points-global-hackathon/blob/master/assets/One%20hot%20encoded%20vectors.png?raw=1\" width=\"500\"></img>\n",
    "\n",
    "Then we pass this one-hot encoded vector into hidden-layer of RNN and the result is a huge matrix of values most of which are zeros because of the initial one-hot encoding and this is really *computaionally inefficient*.<br>\n",
    "\n",
    "<img src=\"https://github.com/purvasingh96/Talking-points-global-hackathon/blob/master/assets/Computationally%20in-efficient.png?raw=1\" width=\"500\"></img>\n",
    "\n",
    "This is where *Embeddings* come into picture.\n",
    "\n",
    "\n",
    "## Word Embeddings\n",
    "\n",
    "Word embeddings is a general technique of reducing the dimensionality of text data, but the embedding models can also learn some interesting traits about words in a vocabulary.<br>\n",
    "\n",
    "Embeddings can improve the ability of neural networks to learn from text data by representing them as *lower dimensional vectors.*\n",
    "\n",
    "The idea here is when we multiply one-hot encoded vector with weight-matrix, returns only the row of the matrix that corresponds to the 1 or the on input unit.<br><br>\n",
    "\n",
    "Hence, instead of doing matrix multiplication, we use weight-matrix as a look-up table and instead of representing words as one-hot vectors, we encode each word with a unique integer.\n",
    "\n",
    "\n",
    "<img src=\"https://github.com/purvasingh96/Talking-points-global-hackathon/blob/master/assets/Embedding%20Lookup.png?raw=1\" width=\"500\"></img>\n",
    "\n"
   ]
  },
  {
   "cell_type": "markdown",
   "metadata": {},
   "source": [
    "# Look-up Tables\n",
    "\n",
    "Considering the example of \"heart\" mentioned above, we see that \"heart\" is encoded as the integer \"958\", we can look-up the embedding vector for this word in the 958th row of the embedding weight matrix. This is called a *look-up table*\n",
    "\n",
    "## Dimensions of Look-up table\n",
    "\n",
    "If we have a vocabulary of 10k words, then we will have a 10k row embedded weight matrix. The width of the table is called *embedding dimensions*.\n",
    "\n",
    "\n",
    "<img src=\"https://github.com/purvasingh96/Talking-points-global-hackathon/blob/master/assets/embedding_lookup_table.png?raw=1\" width=\"500\"></img>\n"
   ]
  },
  {
   "cell_type": "markdown",
   "metadata": {},
   "source": [
    "# Word2Vec Models\n",
    "\n",
    "Word2Vec model provides much efficient representations by finding vectors that represents words.<br>\n",
    "\n",
    "There are 2 architectures for implementing Word2Vec -\n",
    "1. CBOW (Continous Bag Of Words)\n",
    "2. Skip-gram\n",
    "\n",
    "\n",
    "\n",
    "<img src=\"https://github.com/purvasingh96/Talking-points-global-hackathon/blob/master/assets/word2vec_architectures.png?raw=1\" width=\"500\"></img>\n",
    "\n",
    "\n",
    "We have implemened *Talking Points* using the *Skip-gram* model."
   ]
  },
  {
   "cell_type": "code",
   "execution_count": 23,
   "metadata": {
    "_cell_guid": "b1076dfc-b9ad-4769-8c92-a6c4dae69d19",
    "_uuid": "8f2839f25d086af736a60e9eeb907d3b93b6e0e5"
   },
   "outputs": [],
   "source": [
    "import numpy as np # linear algebra\n",
    "import pandas as pd # data processing, CSV file I/O (e.g. pd.read_csv)\n",
    "import os"
   ]
  },
  {
   "cell_type": "code",
   "execution_count": 24,
   "metadata": {
    "_cell_guid": "79c7e3d0-c299-4dcb-8224-4455121ee9b0",
    "_uuid": "d629ff2d2480ee46fbb7e2d37f6b5fab8052498a"
   },
   "outputs": [],
   "source": [
    "import os\n",
    "\n",
    "import pandas as pd\n",
    "df = pd.read_csv('data/parsed_data/data.csv',   sep=';')"
   ]
  },
  {
   "cell_type": "code",
   "execution_count": 4,
   "metadata": {},
   "outputs": [
    {
     "data": {
      "text/html": [
       "<div>\n",
       "<style scoped>\n",
       "    .dataframe tbody tr th:only-of-type {\n",
       "        vertical-align: middle;\n",
       "    }\n",
       "\n",
       "    .dataframe tbody tr th {\n",
       "        vertical-align: top;\n",
       "    }\n",
       "\n",
       "    .dataframe thead th {\n",
       "        text-align: right;\n",
       "    }\n",
       "</style>\n",
       "<table border=\"1\" class=\"dataframe\">\n",
       "  <thead>\n",
       "    <tr style=\"text-align: right;\">\n",
       "      <th></th>\n",
       "      <th>id</th>\n",
       "      <th>Question</th>\n",
       "    </tr>\n",
       "  </thead>\n",
       "  <tbody>\n",
       "    <tr>\n",
       "      <th>0</th>\n",
       "      <td>1</td>\n",
       "      <td>¿Cuáles son los principios fundamentales de la...</td>\n",
       "    </tr>\n",
       "    <tr>\n",
       "      <th>1</th>\n",
       "      <td>2</td>\n",
       "      <td>¿Cómo se implementa el polimorfismo en lenguaj...</td>\n",
       "    </tr>\n",
       "    <tr>\n",
       "      <th>2</th>\n",
       "      <td>3</td>\n",
       "      <td>¿Cuál es la diferencia entre un algoritmo recu...</td>\n",
       "    </tr>\n",
       "    <tr>\n",
       "      <th>3</th>\n",
       "      <td>4</td>\n",
       "      <td>¿Cómo se optimiza el rendimiento de bases de d...</td>\n",
       "    </tr>\n",
       "    <tr>\n",
       "      <th>4</th>\n",
       "      <td>5</td>\n",
       "      <td>¿Qué es la arquitectura de microservicios y en...</td>\n",
       "    </tr>\n",
       "  </tbody>\n",
       "</table>\n",
       "</div>"
      ],
      "text/plain": [
       "   id                                           Question\n",
       "0   1  ¿Cuáles son los principios fundamentales de la...\n",
       "1   2  ¿Cómo se implementa el polimorfismo en lenguaj...\n",
       "2   3  ¿Cuál es la diferencia entre un algoritmo recu...\n",
       "3   4  ¿Cómo se optimiza el rendimiento de bases de d...\n",
       "4   5  ¿Qué es la arquitectura de microservicios y en..."
      ]
     },
     "execution_count": 4,
     "metadata": {},
     "output_type": "execute_result"
    }
   ],
   "source": [
    "df.head()"
   ]
  },
  {
   "cell_type": "code",
   "execution_count": 25,
   "metadata": {},
   "outputs": [
    {
     "name": "stdout",
     "output_type": "stream",
     "text": [
      "500\n"
     ]
    }
   ],
   "source": [
    "news = []\n",
    "for i, j in df.iterrows():\n",
    "    news.append(j['Question'])\n",
    "    \n",
    "print(len(news))"
   ]
  },
  {
   "cell_type": "code",
   "execution_count": 26,
   "metadata": {},
   "outputs": [
    {
     "data": {
      "text/plain": [
       "['¿Cuáles son los principios fundamentales de la programación orientada a objetos?']"
      ]
     },
     "execution_count": 26,
     "metadata": {},
     "output_type": "execute_result"
    }
   ],
   "source": [
    "news[:1]"
   ]
  },
  {
   "cell_type": "code",
   "execution_count": 27,
   "metadata": {},
   "outputs": [
    {
     "data": {
      "text/plain": [
       "500"
      ]
     },
     "execution_count": 27,
     "metadata": {},
     "output_type": "execute_result"
    }
   ],
   "source": [
    "len(news)"
   ]
  },
  {
   "cell_type": "code",
   "execution_count": 28,
   "metadata": {},
   "outputs": [],
   "source": [
    "news = news[:109233]"
   ]
  },
  {
   "cell_type": "code",
   "execution_count": 29,
   "metadata": {},
   "outputs": [
    {
     "data": {
      "text/plain": [
       "500"
      ]
     },
     "execution_count": 29,
     "metadata": {},
     "output_type": "execute_result"
    }
   ],
   "source": [
    "len(news)"
   ]
  },
  {
   "cell_type": "code",
   "execution_count": 30,
   "metadata": {},
   "outputs": [
    {
     "data": {
      "text/plain": [
       "'/kaggle/working\\\\finance_news.txt'"
      ]
     },
     "execution_count": 30,
     "metadata": {},
     "output_type": "execute_result"
    }
   ],
   "source": [
    "os.path.join('/kaggle/working', 'finance_news.txt')"
   ]
  },
  {
   "cell_type": "code",
   "execution_count": 31,
   "metadata": {},
   "outputs": [],
   "source": [
    "f = open('./data/parsed_data/data.txt', 'w')\n",
    "f.write('\\n'.join(news))\n",
    "f.close()"
   ]
  },
  {
   "cell_type": "markdown",
   "metadata": {},
   "source": [
    "# Pre-processing Stock News \n",
    "\n",
    "The following section pre-processes our text file so that -\n",
    "1. Any punctuation are converted into tokens, so a period is changed to a bracketed period.\n",
    "2. In this data set, there aren't any periods, but it will help in other NLP problems.\n",
    "3. It removes all words that show up five or fewer times in the dataset.This will greatly reduce issues due to noise in the data and improve the quality of the vector representations.\n",
    "4. It returns a list of words in the text."
   ]
  },
  {
   "cell_type": "code",
   "execution_count": 32,
   "metadata": {},
   "outputs": [],
   "source": [
    "import os\n",
    "import pickle\n",
    "import torch\n",
    "\n",
    "\n",
    "SPECIAL_WORDS = {'PADDING': '<PAD>'}\n",
    "\n",
    "\n",
    "def load_data(path):\n",
    "    \"\"\"\n",
    "    Load Dataset from File\n",
    "    \"\"\"\n",
    "    input_file = os.path.join(path)\n",
    "    with open(input_file, \"r\") as f:\n",
    "        data = f.read()\n",
    "\n",
    "    return data\n",
    "\n",
    "\n",
    "def preprocess_and_save_data(dataset_path, token_lookup, create_lookup_tables):\n",
    "    \"\"\"\n",
    "    Preprocess Text Data\n",
    "    \"\"\"\n",
    "    text = load_data(dataset_path)\n",
    "    \n",
    "    # Ignore notice, since we don't use it for analysing the data\n",
    "    text = text[81:]\n",
    "\n",
    "    token_dict = token_lookup()\n",
    "    for key, token in token_dict.items():\n",
    "        text = text.replace(key, ' {} '.format(token))\n",
    "\n",
    "    text = text.lower()\n",
    "    text = text.split()\n",
    "\n",
    "    vocab_to_int, int_to_vocab = create_lookup_tables(text + list(SPECIAL_WORDS.values()))\n",
    "    int_text = [vocab_to_int[word] for word in text]\n",
    "    pickle.dump((int_text, vocab_to_int, int_to_vocab, token_dict), open('preprocess.p', 'wb'))\n",
    "\n",
    "\n",
    "def load_preprocess():\n",
    "    \"\"\"\n",
    "    Load the Preprocessed Training data and return them in batches of <batch_size> or less\n",
    "    \"\"\"\n",
    "    return pickle.load(open('preprocess.p', mode='rb'))\n",
    "\n",
    "\n",
    "def save_model(filename, decoder):\n",
    "    save_filename = os.path.splitext(os.path.basename(filename))[0] + '.pt'\n",
    "    torch.save(decoder, save_filename)\n",
    "\n",
    "\n",
    "def load_model(filename):\n",
    "    save_filename = os.path.splitext(os.path.basename(filename))[0] + '.pt'\n",
    "    return torch.load(save_filename)"
   ]
  },
  {
   "cell_type": "code",
   "execution_count": 33,
   "metadata": {},
   "outputs": [],
   "source": [
    "data_dir = './data/parsed_data/data.txt'\n",
    "text = load_data(data_dir)"
   ]
  },
  {
   "cell_type": "markdown",
   "metadata": {},
   "source": [
    "# Vocab2int & Int2vocab\n",
    "\n",
    "Here we are creating 2 dictionaries to convert words to integers (`vocab_to_int`) and integers to vocab (`int_to_vocab`). The integers are assigned in descending order of the frequency, so the most frequent word, \"the\",  is given the integer \"0\" and the next most frequent word is given \"1\" and so on."
   ]
  },
  {
   "cell_type": "code",
   "execution_count": 35,
   "metadata": {},
   "outputs": [
    {
     "name": "stdout",
     "output_type": "stream",
     "text": [
      "Dataset Stats\n",
      "Roughly the number of unique words: 1167\n",
      "Number of lines: 500\n",
      "Average number of words in each line: 13.362\n",
      "\n",
      "The lines 0 to 10:\n",
      "¿Cuáles son los principios fundamentales de la programación orientada a objetos?\n",
      "¿Cómo se implementa el polimorfismo en lenguajes de programación como Java o C++?\n",
      "¿Cuál es la diferencia entre un algoritmo recursivo y uno iterativo?\n",
      "¿Cómo se optimiza el rendimiento de bases de datos en aplicaciones web de alta concurrencia?\n",
      "¿Qué es la arquitectura de microservicios y en qué se diferencia de la arquitectura monolítica?\n",
      "¿Cómo se implementa la seguridad en el desarrollo de aplicaciones web?\n",
      "¿Cuáles son las principales técnicas para el análisis de big data?\n",
      "¿Qué es el patrón MVC (Modelo-Vista-Controlador) y cuál es su utilidad en el desarrollo web?\n",
      "¿Cómo se abordan los problemas de concurrencia y sincronización en el desarrollo de software?\n",
      "¿Qué son los sistemas distribuidos y cuáles son sus ventajas y desventajas?\n"
     ]
    }
   ],
   "source": [
    "view_line_range = (0, 10)\n",
    "\n",
    "import numpy as np\n",
    "\n",
    "print('Dataset Stats')\n",
    "print('Roughly the number of unique words: {}'.format(len({word: None for word in text.split()})))\n",
    "\n",
    "lines = text.split('\\n')\n",
    "print('Number of lines: {}'.format(len(lines)))\n",
    "word_count_line = [len(line.split()) for line in lines]\n",
    "print('Average number of words in each line: {}'.format(np.average(word_count_line)))\n",
    "\n",
    "print()\n",
    "print('The lines {} to {}:'.format(*view_line_range))\n",
    "print('\\n'.join(text.split('\\n')[view_line_range[0]:view_line_range[1]]))"
   ]
  },
  {
   "cell_type": "code",
   "execution_count": 36,
   "metadata": {},
   "outputs": [],
   "source": [
    "from collections import Counter\n",
    "\n",
    "def create_lookup_tables(text):\n",
    "    \"\"\"\n",
    "    Create lookup tables for vocabulary\n",
    "    :param text: The text of tv scripts split into words\n",
    "    :return: A tuple of dicts (vocab_to_int, int_to_vocab)\n",
    "    \"\"\"\n",
    "    # TODO: Implement Function\n",
    "    word_count = Counter(text)\n",
    "    sorted_vocab = sorted(word_count, key = word_count.get, reverse=True)\n",
    "    int_to_vocab = {ii:word for ii, word in enumerate(sorted_vocab)}\n",
    "    vocab_to_int = {word:ii for ii, word in int_to_vocab.items()}\n",
    "    \n",
    "    # return tuple\n",
    "    return (vocab_to_int, int_to_vocab)\n"
   ]
  },
  {
   "cell_type": "code",
   "execution_count": 37,
   "metadata": {},
   "outputs": [],
   "source": [
    "def token_lookup():\n",
    "    \"\"\"\n",
    "    Generate a dict to turn punctuation into a token.\n",
    "    :return: Tokenized dictionary where the key is the punctuation and the value is the token\n",
    "    \"\"\"\n",
    "    # TODO: Implement Function\n",
    "    token = dict()\n",
    "    token['.'] = '<PERIOD>'\n",
    "    token[','] = '<COMMA>'\n",
    "    token['\"'] = 'QUOTATION_MARK'\n",
    "    token[';'] = 'SEMICOLON'\n",
    "    token['!'] = 'EXCLAIMATION_MARK'\n",
    "    token['?'] = 'QUESTION_MARK'\n",
    "    token['('] = 'LEFT_PAREN'\n",
    "    token[')'] = 'RIGHT_PAREN'\n",
    "    token['-'] = 'QUESTION_MARK'\n",
    "    token['\\n'] = 'NEW_LINE'\n",
    "    return token\n"
   ]
  },
  {
   "cell_type": "code",
   "execution_count": 38,
   "metadata": {},
   "outputs": [],
   "source": [
    "preprocess_and_save_data(data_dir, token_lookup, create_lookup_tables)"
   ]
  },
  {
   "cell_type": "code",
   "execution_count": 39,
   "metadata": {},
   "outputs": [],
   "source": [
    "int_text, vocab_to_int, int_to_vocab, token_dict = load_preprocess()"
   ]
  },
  {
   "cell_type": "code",
   "execution_count": 40,
   "metadata": {},
   "outputs": [],
   "source": [
    "train_on_gpu = torch.cuda.is_available()"
   ]
  },
  {
   "cell_type": "markdown",
   "metadata": {},
   "source": [
    "# Batching Data\n",
    "\n",
    " We'll use `TensorDataset` to provide a known format to our dataset; in combination with DataLoader, it will handle batching, shuffling, and other dataset iteration functions.<br>\n",
    "We can create data with TensorDataset by passing in feature and target tensors. Then create a DataLoader as usual.\n",
    "\n",
    "```python\n",
    "data = TensorDataset(feature_tensors, target_tensors)\n",
    "data_loader = torch.utils.data.DataLoader(data, batch_size=batch_size)\n",
    "```\n",
    "\n",
    "For example, say we have these as input:<br>\n",
    "```\n",
    "words = [1, 2, 3, 4, 5, 6, 7]\n",
    "sequence_length = 4\n",
    "```\n",
    "Our first feature_tensor should contain the values:<br>\n",
    "```\n",
    "[1, 2, 3, 4]\n",
    "```\n",
    "And the corresponding target_tensor should just be the next \"word\"/tokenized word value:<br>\n",
    "```\n",
    "5\n",
    "```\n",
    "This should continue with the second feature_tensor, target_tensor being:<br>\n",
    "```\n",
    "[2, 3, 4, 5]  # features\n",
    "6             # target\n",
    "```"
   ]
  },
  {
   "cell_type": "code",
   "execution_count": 41,
   "metadata": {},
   "outputs": [],
   "source": [
    "from torch.utils.data import TensorDataset, DataLoader\n",
    "import torch\n",
    "import numpy as np\n",
    "\n",
    "\n",
    "def batch_data(words, sequence_length, batch_size):\n",
    "    \"\"\"\n",
    "    Batch the neural network data using DataLoader\n",
    "    :param words: The word ids of the TV scripts\n",
    "    :param sequence_length: The sequence length of each batch\n",
    "    :param batch_size: The size of each batch; the number of sequences in a batch\n",
    "    :return: DataLoader with batched data\n",
    "    \"\"\"\n",
    "    # TODO: Implement function\n",
    "    n_batches = len(words)//batch_size\n",
    "    x, y = [], []\n",
    "    words = words[:n_batches*batch_size]\n",
    "    \n",
    "    for ii in range(0, len(words)-sequence_length):\n",
    "        i_end = ii+sequence_length        \n",
    "        batch_x = words[ii:ii+sequence_length]\n",
    "        x.append(batch_x)\n",
    "        batch_y = words[i_end]\n",
    "        y.append(batch_y)\n",
    "    \n",
    "    data = TensorDataset(torch.from_numpy(np.asarray(x)), torch.from_numpy(np.asarray(y)))\n",
    "    data_loader = DataLoader(data, shuffle=True, batch_size=batch_size)\n",
    "        \n",
    "    \n",
    "    # return a dataloader\n",
    "    return data_loader\n"
   ]
  },
  {
   "cell_type": "code",
   "execution_count": 45,
   "metadata": {},
   "outputs": [
    {
     "name": "stdout",
     "output_type": "stream",
     "text": [
      "torch.Size([10, 5])\n",
      "tensor([[44, 45, 46, 47, 48],\n",
      "        [41, 42, 43, 44, 45],\n",
      "        [10, 11, 12, 13, 14],\n",
      "        [34, 35, 36, 37, 38],\n",
      "        [29, 30, 31, 32, 33],\n",
      "        [ 6,  7,  8,  9, 10],\n",
      "        [ 2,  3,  4,  5,  6],\n",
      "        [ 0,  1,  2,  3,  4],\n",
      "        [40, 41, 42, 43, 44],\n",
      "        [36, 37, 38, 39, 40]], dtype=torch.int32)\n",
      "\n",
      "torch.Size([10])\n",
      "tensor([49, 46, 15, 39, 34, 11,  7,  5, 45, 41], dtype=torch.int32)\n"
     ]
    }
   ],
   "source": [
    "# test dataloader\n",
    "\n",
    "test_text = range(50)\n",
    "t_loader = batch_data(test_text, sequence_length=5, batch_size=10)\n",
    "\n",
    "data_iter = iter(t_loader)\n",
    "sample = next(data_iter)  # Obtiene un lote de datos de muestra\n",
    "\n",
    "sample_x, sample_y = sample[0], sample[1]  # Asumiendo que tu DataLoader devuelve 'input' y 'target'\n",
    "\n",
    "print(sample_x.shape)\n",
    "print(sample_x)\n",
    "print()\n",
    "print(sample_y.shape)\n",
    "print(sample_y)"
   ]
  },
  {
   "cell_type": "markdown",
   "metadata": {},
   "source": [
    "# Talking Points Model\n",
    "\n",
    "## Genral Architecture\n",
    "\n",
    "### Embedding Layer\n",
    "\n",
    "The model should take our word tokens and firstly pass it through our embedding layer. This layer will be responsible for converting out word tokens or integers into embeddings of specific size. These word embeddings are then fed to the next layer of LSTM cells. <br>\n",
    "\n",
    "The main purpose of using embedding layer is dimensionality reduction.\n",
    "\n",
    "### Contiguous LSTM Layer\n",
    "\n",
    "Our LSTM layer is defined by *hidden state size and number of layers*. At each step, an LSTM cell will produce an output and a new hidden state. The hidden state will be passed to next cell as input (memory representation.)\n",
    "\n",
    "### Final Fully Connected Linear Layer\n",
    "\n",
    "The output generated by LSTM cell will be then fed into a *Sigmoid activated fully-connected linear layer.* This layer is responsible for mapping LSTM output to desired output size.\n",
    "\n",
    "The output of the sigmoid function will be the probability distribution of most likely next word.<br><br>\n",
    "\n",
    "\n",
    "<img src=\"https://github.com/purvasingh96/Talking-points-global-hackathon/blob/master/assets/lstm_rnn_2.png?raw=1\" height=\"500\"></img>\n"
   ]
  },
  {
   "cell_type": "code",
   "execution_count": 70,
   "metadata": {},
   "outputs": [],
   "source": [
    "import torch.nn as nn\n",
    "\n",
    "class RNN(nn.Module):\n",
    "    \n",
    "    def __init__(self, vocab_size, output_size, embedding_dim, hidden_dim, n_layers, dropout=0.5):\n",
    "        \"\"\"\n",
    "        Initialize the PyTorch RNN Module\n",
    "        :param vocab_size: The number of input dimensions of the neural network (the size of the vocabulary)\n",
    "        :param output_size: The number of output dimensions of the neural network\n",
    "        :param embedding_dim: The size of embeddings, should you choose to use them        \n",
    "        :param hidden_dim: The size of the hidden layer outputs\n",
    "        :param dropout: dropout to add in between LSTM/GRU layers\n",
    "        \"\"\"\n",
    "        super(RNN, self).__init__()\n",
    "        # TODO: Implement function\n",
    "        \n",
    "        # define embedding layer\n",
    "        self.embedding = nn.Embedding(vocab_size, embedding_dim)\n",
    "        \n",
    "        # define lstm layer\n",
    "        self.lstm = nn.LSTM(embedding_dim, hidden_dim, n_layers, dropout=dropout, batch_first=True)\n",
    "        \n",
    "        \n",
    "        # set class variables\n",
    "        self.vocab_size = vocab_size\n",
    "        self.output_size = output_size\n",
    "        self.embedding_dim = embedding_dim\n",
    "        self.hidden_dim = hidden_dim\n",
    "        self.n_layers = n_layers\n",
    "        \n",
    "        # define model layers\n",
    "        self.fc = nn.Linear(hidden_dim, output_size)\n",
    "    \n",
    "    \n",
    "    def forward(self, x, hidden):\n",
    "        \"\"\"\n",
    "        Forward propagation of the neural network\n",
    "        :param nn_input: The input to the neural network\n",
    "        :param hidden: The hidden state        \n",
    "        :return: Two Tensors, the output of the neural network and the latest hidden state\n",
    "        \"\"\"\n",
    "        # TODO: Implement function   \n",
    "        batch_size = x.size(0)\n",
    "        x=x.long()\n",
    "        \n",
    "        # embedding and lstm_out \n",
    "        embeds = self.embedding(x)\n",
    "        lstm_out, hidden = self.lstm(embeds, hidden)\n",
    "        \n",
    "        # stack up lstm layers\n",
    "        lstm_out = lstm_out.contiguous().view(-1, self.hidden_dim)\n",
    "        \n",
    "        # dropout, fc layer and final sigmoid layer\n",
    "        out = self.fc(lstm_out)\n",
    "        \n",
    "        # reshaping out layer to batch_size * seq_length * output_size\n",
    "        out = out.view(batch_size, -1, self.output_size)\n",
    "        \n",
    "        # return last batch\n",
    "        out = out[:, -1]\n",
    "\n",
    "        # return one batch of output word scores and the hidden state\n",
    "        return out, hidden\n",
    "    \n",
    "    \n",
    "    def init_hidden(self, batch_size):\n",
    "        '''\n",
    "        Initialize the hidden state of an LSTM/GRU\n",
    "        :param batch_size: The batch_size of the hidden state\n",
    "        :return: hidden state of dims (n_layers, batch_size, hidden_dim)\n",
    "        '''\n",
    "        # create 2 new zero tensors of size n_layers * batch_size * hidden_dim\n",
    "        weights = next(self.parameters()).data\n",
    "\n",
    "        hidden = (weights.new(self.n_layers, batch_size, self.hidden_dim).zero_(),\n",
    "                    weights.new(self.n_layers, batch_size, self.hidden_dim).zero_())\n",
    "        \n",
    "        # initialize hidden state with zero weights, and move to GPU if available\n",
    "        \n",
    "        return hidden"
   ]
  },
  {
   "cell_type": "code",
   "execution_count": 82,
   "metadata": {},
   "outputs": [],
   "source": [
    "def forward_back_prop(rnn, optimizer, criterion, inp, target, hidden):\n",
    "    \"\"\"\n",
    "    Forward and backward propagation on the neural network\n",
    "    :param rnn: The PyTorch Module that holds the neural network\n",
    "    :param optimizer: The PyTorch optimizer for the neural network\n",
    "    :param criterion: The PyTorch loss function\n",
    "    :param inp: A batch of input to the neural network\n",
    "    :param target: The target output for the batch of input\n",
    "    :return: The loss and the latest hidden state Tensor\n",
    "    \"\"\"\n",
    "    \n",
    "    # Creating variables for hidden state to prevent back-propagation\n",
    "    # of historical states \n",
    "    h = tuple([each.data for each in hidden])\n",
    "    \n",
    "    rnn.zero_grad()\n",
    "    \n",
    "    # Forward pass\n",
    "    output, h = rnn(inp, h)\n",
    "    \n",
    "    # Calculate the loss\n",
    "    loss = criterion(output, target.long())\n",
    "    \n",
    "    # Backpropagation\n",
    "    loss.backward()\n",
    "    nn.utils.clip_grad_norm_(rnn.parameters(), 5)\n",
    "    optimizer.step()\n",
    "\n",
    "    # Return the loss over a batch and the hidden state produced by our model\n",
    "    return loss.item(), h\n"
   ]
  },
  {
   "cell_type": "code",
   "execution_count": 115,
   "metadata": {},
   "outputs": [],
   "source": [
    "def train_rnn(rnn, batch_size, optimizer, criterion, n_epochs, show_every_n_batches=100):\n",
    "    batch_losses = []\n",
    "    \n",
    "    rnn.train()\n",
    "\n",
    "    print(\"Training for %d epoch(s)...\" % n_epochs)\n",
    "    for epoch_i in range(1, n_epochs + 1):\n",
    "        print(epoch_i)\n",
    "        # initialize hidden state\n",
    "        hidden = rnn.init_hidden(batch_size)\n",
    "        \n",
    "        for batch_i, (inputs, labels) in enumerate(train_loader, 1):\n",
    "            \n",
    "            # make sure you iterate over completely full batches, only\n",
    "            n_batches = len(train_loader.dataset)//batch_size\n",
    "            if(batch_i > n_batches):\n",
    "                break\n",
    "            \n",
    "            # forward, back prop\n",
    "            loss, hidden = forward_back_prop(rnn, optimizer, criterion, inputs, labels, hidden)          \n",
    "            # record loss\n",
    "            batch_losses.append(loss)\n",
    "\n",
    "            # printing loss stats\n",
    "            if batch_i % show_every_n_batches == 0:\n",
    "                print('Epoch: {:>4}/{:<4}  Loss: {}\\n'.format(\n",
    "                    epoch_i, n_epochs, np.average(batch_losses)))\n",
    "                batch_losses = []\n",
    "\n",
    "    # returns a trained rnn\n",
    "    return rnn"
   ]
  },
  {
   "cell_type": "code",
   "execution_count": 189,
   "metadata": {},
   "outputs": [],
   "source": [
    "# Data params\n",
    "# Sequence Length\n",
    "sequence_length = 10  # of words in a sequence\n",
    "# Batch Size\n",
    "batch_size = 128\n",
    "\n",
    "# data loader - do not change\n",
    "train_loader = batch_data(int_text, sequence_length, batch_size)"
   ]
  },
  {
   "cell_type": "code",
   "execution_count": 190,
   "metadata": {},
   "outputs": [],
   "source": [
    "# Training parameters\n",
    "# Number of Epochs\n",
    "num_epochs = 10\n",
    "# Learning Rate\n",
    "learning_rate = 0.001\n",
    "\n",
    "# Model parameters\n",
    "# Vocab size\n",
    "vocab_size = len(vocab_to_int)\n",
    "# Output size\n",
    "output_size = vocab_size\n",
    "# Embedding Dimension\n",
    "embedding_dim = 200\n",
    "# Hidden Dimension\n",
    "hidden_dim = 250\n",
    "# Number of RNN Layers\n",
    "n_layers = 2\n",
    "\n",
    "# Show stats for every n number of batches\n",
    "show_every_n_batches = 500"
   ]
  },
  {
   "cell_type": "code",
   "execution_count": 191,
   "metadata": {},
   "outputs": [
    {
     "name": "stdout",
     "output_type": "stream",
     "text": [
      "Training for 10 epoch(s)...\n",
      "1\n",
      "2\n",
      "3\n",
      "4\n",
      "5\n",
      "6\n",
      "7\n",
      "8\n",
      "9\n",
      "10\n",
      "Model Trained and Saved\n"
     ]
    }
   ],
   "source": [
    "# create model and move to gpu if available\n",
    "rnn = RNN(vocab_size, output_size, embedding_dim, hidden_dim, n_layers, dropout=0.5)\n",
    "\n",
    "\n",
    "# defining loss and optimization functions for training\n",
    "optimizer = torch.optim.Adam(rnn.parameters(), lr=learning_rate)\n",
    "criterion = nn.CrossEntropyLoss()\n",
    "\n",
    "# training the model\n",
    "trained_rnn = train_rnn(rnn, batch_size, optimizer, criterion, num_epochs, show_every_n_batches)\n",
    "\n",
    "# saving the trained model\n",
    "save_model('../app/saved_models/trained_rnn', trained_rnn)\n",
    "print('Model Trained and Saved')"
   ]
  },
  {
   "cell_type": "code",
   "execution_count": 192,
   "metadata": {},
   "outputs": [],
   "source": [
    "\"\"\"\n",
    "DON'T MODIFY ANYTHING IN THIS CELL\n",
    "\"\"\"\n",
    "import torch\n",
    "\n",
    "_, vocab_to_int, int_to_vocab, token_dict = load_preprocess()\n",
    "trained_rnn = load_model('../app/saved_models/trained_rnn')"
   ]
  },
  {
   "cell_type": "code",
   "execution_count": 195,
   "metadata": {},
   "outputs": [],
   "source": [
    "import torch.nn.functional as F\n",
    "\n",
    "def generate(rnn, prime_id, int_to_vocab, token_dict, pad_value, predict_len=100):\n",
    "    \"\"\"\n",
    "    Generate text using the neural network\n",
    "    :param decoder: The PyTorch Module that holds the trained neural network\n",
    "    :param prime_id: The word id to start the first prediction\n",
    "    :param int_to_vocab: Dict of word id keys to word values\n",
    "    :param token_dict: Dict of puncuation tokens keys to puncuation values\n",
    "    :param pad_value: The value used to pad a sequence\n",
    "    :param predict_len: The length of text to generate\n",
    "    :return: The generated text\n",
    "    \"\"\"\n",
    "    rnn.eval()\n",
    "    \n",
    "    # create a sequence (batch_size=1) with the prime_id\n",
    "    current_seq = np.full((1, sequence_length), pad_value)\n",
    "    current_seq[-1][-1] = prime_id\n",
    "    predicted = [int_to_vocab[prime_id]]\n",
    "    \n",
    "    for _ in range(predict_len):\n",
    "        if train_on_gpu:\n",
    "            current_seq = torch.LongTensor(current_seq).cuda()\n",
    "        else:\n",
    "            current_seq = torch.LongTensor(current_seq)\n",
    "        \n",
    "        # initialize the hidden state\n",
    "        hidden = rnn.init_hidden(current_seq.size(0))\n",
    "        \n",
    "        # get the output of the rnn\n",
    "        output, _ = rnn(current_seq, hidden)\n",
    "        \n",
    "        # get the next word probabilities\n",
    "        p = F.softmax(output, dim=1).data\n",
    "        if(train_on_gpu):\n",
    "            p = p.cpu() # move to cpu\n",
    "         \n",
    "        # use top_k sampling to get the index of the next word\n",
    "        top_k = 5\n",
    "        p, top_i = p.topk(top_k)\n",
    "        top_i = top_i.numpy().squeeze()\n",
    "        \n",
    "        # select the likely next word index with some element of randomness\n",
    "        p = p.numpy().squeeze()\n",
    "        word_i = np.random.choice(top_i, p=p/p.sum())\n",
    "        \n",
    "        # retrieve that word from the dictionary\n",
    "        word = int_to_vocab[word_i]\n",
    "        predicted.append(word)     \n",
    "        \n",
    "        # the generated word becomes the next \"current sequence\" and the cycle can continue\n",
    "        current_seq = np.roll(current_seq.cpu(), -1, 1)\n",
    "        current_seq[-1][-1] = word_i\n",
    "    \n",
    "    gen_sentences = ' '.join(predicted)\n",
    "    \n",
    "    # Replace punctuation tokens\n",
    "    for key, token in token_dict.items():\n",
    "        ending = ' ' if key in ['\\n', '(', '\"'] else ''\n",
    "        gen_sentences = gen_sentences.replace(' ' + token.lower(), key)\n",
    "    gen_sentences = gen_sentences.replace('\\n ', '\\n')\n",
    "    gen_sentences = gen_sentences.replace('( ', '(')\n",
    "    \n",
    "    # return all the sentences\n",
    "    return gen_sentences\n"
   ]
  },
  {
   "cell_type": "code",
   "execution_count": 205,
   "metadata": {},
   "outputs": [
    {
     "name": "stdout",
     "output_type": "stream",
     "text": [
      "diferencia el desarrollo de sistemas?\n",
      "¿qué desafíos\n"
     ]
    }
   ],
   "source": [
    "gen_length = 8 # modify the length to your preference\n",
    "prime_words = ['diferencia'] # name for starting the script\n",
    "\n",
    "\"\"\"\n",
    "DON'T MODIFY ANYTHING IN THIS CELL THAT IS BELOW THIS LINE\n",
    "\"\"\"\n",
    "for prime_word in prime_words:\n",
    "    pad_word = SPECIAL_WORDS['PADDING']\n",
    "    generated_script = generate(trained_rnn, vocab_to_int[prime_word], int_to_vocab, token_dict, vocab_to_int[pad_word], gen_length)\n",
    "    print(generated_script)"
   ]
  },
  {
   "cell_type": "markdown",
   "metadata": {},
   "source": [
    "## Future Work\n",
    "\n",
    "There are few things which I would like to work on to improvise the model's performance-\n",
    "\n",
    "1. Use of bidirectional LSTM\n",
    "2. Pre-trained word embeddings such as GloVe or FastText\n",
    "3. Larger dataset that focuses on impact of corona pandemic on stocks."
   ]
  }
 ],
 "metadata": {
  "kernelspec": {
   "display_name": "Python 3",
   "language": "python",
   "name": "python3"
  },
  "language_info": {
   "codemirror_mode": {
    "name": "ipython",
    "version": 3
   },
   "file_extension": ".py",
   "mimetype": "text/x-python",
   "name": "python",
   "nbconvert_exporter": "python",
   "pygments_lexer": "ipython3",
   "version": "3.11.2"
  }
 },
 "nbformat": 4,
 "nbformat_minor": 4
}
